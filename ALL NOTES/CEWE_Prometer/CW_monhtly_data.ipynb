{
 "cells": [
  {
   "cell_type": "code",
   "execution_count": 1,
   "metadata": {},
   "outputs": [],
   "source": [
    "import pandas as pd\n",
    "import numpy as np\n",
    "import openpyxl\n",
    "from datetime import datetime\n",
    "import gc"
   ]
  },
  {
   "cell_type": "code",
   "execution_count": 4,
   "metadata": {},
   "outputs": [
    {
     "data": {
      "text/plain": [
       "'CW001292'"
      ]
     },
     "execution_count": 4,
     "metadata": {},
     "output_type": "execute_result"
    }
   ],
   "source": [
    "files = ['CW001292_hist.xls','CW001292_TOU.xls']\n",
    "meter_no = files[0].split(\"_\")[0].strip()\n",
    "meter_no"
   ]
  },
  {
   "cell_type": "code",
   "execution_count": 9,
   "metadata": {},
   "outputs": [
    {
     "data": {
      "text/plain": [
       "'CW001292_hist.xls'"
      ]
     },
     "execution_count": 9,
     "metadata": {},
     "output_type": "execute_result"
    }
   ],
   "source": [
    "files[0]"
   ]
  },
  {
   "cell_type": "code",
   "execution_count": 11,
   "metadata": {},
   "outputs": [
    {
     "data": {
      "text/html": [
       "<div>\n",
       "<style scoped>\n",
       "    .dataframe tbody tr th:only-of-type {\n",
       "        vertical-align: middle;\n",
       "    }\n",
       "\n",
       "    .dataframe tbody tr th {\n",
       "        vertical-align: top;\n",
       "    }\n",
       "\n",
       "    .dataframe thead th {\n",
       "        text-align: right;\n",
       "    }\n",
       "</style>\n",
       "<table border=\"1\" class=\"dataframe\">\n",
       "  <thead>\n",
       "    <tr style=\"text-align: right;\">\n",
       "      <th></th>\n",
       "      <th>Values of Energy: 2025-02-01 00:00</th>\n",
       "    </tr>\n",
       "  </thead>\n",
       "  <tbody>\n",
       "    <tr>\n",
       "      <th>NaN</th>\n",
       "      <td>Value</td>\n",
       "    </tr>\n",
       "    <tr>\n",
       "      <th>Active Energy Imp. (MWh)</th>\n",
       "      <td>20288.5</td>\n",
       "    </tr>\n",
       "    <tr>\n",
       "      <th>Active Energy Exp. (MWh)</th>\n",
       "      <td>98499.9</td>\n",
       "    </tr>\n",
       "    <tr>\n",
       "      <th>Reactive Energy QI (Mvarh)</th>\n",
       "      <td>390.4</td>\n",
       "    </tr>\n",
       "    <tr>\n",
       "      <th>Reactive Energy QII (Mvarh)</th>\n",
       "      <td>35733.2</td>\n",
       "    </tr>\n",
       "    <tr>\n",
       "      <th>Reactive Energy QIII (Mvarh)</th>\n",
       "      <td>3588.0</td>\n",
       "    </tr>\n",
       "    <tr>\n",
       "      <th>Reactive Energy QIV (Mvarh)</th>\n",
       "      <td>4226.1</td>\n",
       "    </tr>\n",
       "    <tr>\n",
       "      <th>Apparent Energy Imp. (MVAh)</th>\n",
       "      <td>20908.4</td>\n",
       "    </tr>\n",
       "    <tr>\n",
       "      <th>Apparent Energy Exp. (MVAh)</th>\n",
       "      <td>110979.1</td>\n",
       "    </tr>\n",
       "    <tr>\n",
       "      <th>Reactive Energy Imp. (Mvarh)</th>\n",
       "      <td>36123.6</td>\n",
       "    </tr>\n",
       "    <tr>\n",
       "      <th>Reactive Energy Exp. (Mvarh)</th>\n",
       "      <td>7814.1</td>\n",
       "    </tr>\n",
       "    <tr>\n",
       "      <th>Reactive Energy Ind. (Mvarh)</th>\n",
       "      <td>3978.4</td>\n",
       "    </tr>\n",
       "    <tr>\n",
       "      <th>Reactive Energy Cap. (Mvarh)</th>\n",
       "      <td>39959.3</td>\n",
       "    </tr>\n",
       "  </tbody>\n",
       "</table>\n",
       "</div>"
      ],
      "text/plain": [
       "                             Values of Energy: 2025-02-01 00:00\n",
       "NaN                                                       Value\n",
       "Active Energy Imp. (MWh)                                20288.5\n",
       "Active Energy Exp. (MWh)                                98499.9\n",
       "Reactive Energy QI (Mvarh)                                390.4\n",
       "Reactive Energy QII (Mvarh)                             35733.2\n",
       "Reactive Energy QIII (Mvarh)                             3588.0\n",
       "Reactive Energy QIV (Mvarh)                              4226.1\n",
       "Apparent Energy Imp. (MVAh)                             20908.4\n",
       "Apparent Energy Exp. (MVAh)                            110979.1\n",
       "Reactive Energy Imp. (Mvarh)                            36123.6\n",
       "Reactive Energy Exp. (Mvarh)                             7814.1\n",
       "Reactive Energy Ind. (Mvarh)                             3978.4\n",
       "Reactive Energy Cap. (Mvarh)                            39959.3"
      ]
     },
     "execution_count": 11,
     "metadata": {},
     "output_type": "execute_result"
    }
   ],
   "source": [
    "df = pd.read_table(files[0])\n",
    "df"
   ]
  },
  {
   "cell_type": "code",
   "execution_count": 15,
   "metadata": {},
   "outputs": [
    {
     "data": {
      "text/plain": [
       "Index(['Values of Energy: 2025-02-01 00:00'], dtype='object')"
      ]
     },
     "execution_count": 15,
     "metadata": {},
     "output_type": "execute_result"
    }
   ],
   "source": [
    "df.columns"
   ]
  },
  {
   "cell_type": "code",
   "execution_count": null,
   "metadata": {},
   "outputs": [],
   "source": []
  }
 ],
 "metadata": {
  "kernelspec": {
   "display_name": "venv",
   "language": "python",
   "name": "python3"
  },
  "language_info": {
   "codemirror_mode": {
    "name": "ipython",
    "version": 3
   },
   "file_extension": ".py",
   "mimetype": "text/x-python",
   "name": "python",
   "nbconvert_exporter": "python",
   "pygments_lexer": "ipython3",
   "version": "3.13.1"
  }
 },
 "nbformat": 4,
 "nbformat_minor": 2
}
