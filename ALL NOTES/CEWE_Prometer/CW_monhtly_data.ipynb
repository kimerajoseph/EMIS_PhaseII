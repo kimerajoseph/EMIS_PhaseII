{
 "cells": [
  {
   "cell_type": "code",
   "execution_count": 22,
   "metadata": {},
   "outputs": [],
   "source": [
    "import pandas as pd\n",
    "import numpy as np\n",
    "import openpyxl\n",
    "from datetime import datetime\n",
    "import gc"
   ]
  },
  {
   "cell_type": "code",
   "execution_count": 23,
   "metadata": {},
   "outputs": [
    {
     "data": {
      "text/plain": [
       "'CW001292'"
      ]
     },
     "execution_count": 23,
     "metadata": {},
     "output_type": "execute_result"
    }
   ],
   "source": [
    "files = ['CW001292_hist.xls','CW001292_TOU.xls']\n",
    "meter_no = files[0].split(\"_\")[0].strip()\n",
    "meter_no"
   ]
  },
  {
   "cell_type": "code",
   "execution_count": 24,
   "metadata": {},
   "outputs": [],
   "source": [
    "df = pd.read_table(files[0])\n",
    "#df"
   ]
  },
  {
   "cell_type": "code",
   "execution_count": 45,
   "metadata": {},
   "outputs": [],
   "source": [
    "#df.columns[0].split(\":\")[0]\n",
    "df = pd.read_table(files[0])\n",
    "old_name = df.columns[0]\n",
    "new_name = df.columns[0].split(\":\")[0]"
   ]
  },
  {
   "cell_type": "code",
   "execution_count": null,
   "metadata": {},
   "outputs": [
    {
     "data": {
      "text/plain": [
       "'2025-02-01'"
      ]
     },
     "execution_count": 60,
     "metadata": {},
     "output_type": "execute_result"
    }
   ],
   "source": [
    "x = str(df.iloc[0]).split(\":\")[1].strip().split(\" \")[0]\n",
    "x.split(\":\")[1].strip().split(\" \")[0]"
   ]
  },
  {
   "cell_type": "code",
   "execution_count": 64,
   "metadata": {},
   "outputs": [
    {
     "data": {
      "text/plain": [
       "datetime.date(2025, 2, 1)"
      ]
     },
     "execution_count": 64,
     "metadata": {},
     "output_type": "execute_result"
    }
   ],
   "source": [
    "bill_date = str(df.iloc[0]).split(\":\")[1].strip().split(\" \")[0]\n",
    "billing_date = datetime.strptime(bill_date, '%Y-%m-%d').date()\n",
    "billing_date"
   ]
  },
  {
   "cell_type": "code",
   "execution_count": 62,
   "metadata": {},
   "outputs": [
    {
     "data": {
      "text/plain": [
       "datetime.date(2025, 2, 1)"
      ]
     },
     "execution_count": 62,
     "metadata": {},
     "output_type": "execute_result"
    }
   ],
   "source": [
    "date_str = '2025-02-01'\n",
    "date_obj = datetime.strptime(date_str, '%Y-%m-%d').date()\n",
    "date_obj"
   ]
  },
  {
   "cell_type": "code",
   "execution_count": null,
   "metadata": {},
   "outputs": [],
   "source": [
    "df = df.reset_index().rename(columns={'index': 'parameters',df.columns[0]:'energy_values'})\n",
    "df.dropna(inplace=True)\n",
    "#df.rename(columns={df.columns[0]: 'new_name'}, inplace=True)"
   ]
  },
  {
   "cell_type": "code",
   "execution_count": 27,
   "metadata": {},
   "outputs": [
    {
     "data": {
      "text/html": [
       "<div>\n",
       "<style scoped>\n",
       "    .dataframe tbody tr th:only-of-type {\n",
       "        vertical-align: middle;\n",
       "    }\n",
       "\n",
       "    .dataframe tbody tr th {\n",
       "        vertical-align: top;\n",
       "    }\n",
       "\n",
       "    .dataframe thead th {\n",
       "        text-align: right;\n",
       "    }\n",
       "</style>\n",
       "<table border=\"1\" class=\"dataframe\">\n",
       "  <thead>\n",
       "    <tr style=\"text-align: right;\">\n",
       "      <th></th>\n",
       "      <th>parameters</th>\n",
       "      <th>energy_values</th>\n",
       "    </tr>\n",
       "  </thead>\n",
       "  <tbody>\n",
       "    <tr>\n",
       "      <th>1</th>\n",
       "      <td>Active Energy Imp. (MWh)</td>\n",
       "      <td>20288.5</td>\n",
       "    </tr>\n",
       "    <tr>\n",
       "      <th>2</th>\n",
       "      <td>Active Energy Exp. (MWh)</td>\n",
       "      <td>98499.9</td>\n",
       "    </tr>\n",
       "    <tr>\n",
       "      <th>3</th>\n",
       "      <td>Reactive Energy QI (Mvarh)</td>\n",
       "      <td>390.4</td>\n",
       "    </tr>\n",
       "    <tr>\n",
       "      <th>4</th>\n",
       "      <td>Reactive Energy QII (Mvarh)</td>\n",
       "      <td>35733.2</td>\n",
       "    </tr>\n",
       "    <tr>\n",
       "      <th>5</th>\n",
       "      <td>Reactive Energy QIII (Mvarh)</td>\n",
       "      <td>3588.0</td>\n",
       "    </tr>\n",
       "    <tr>\n",
       "      <th>6</th>\n",
       "      <td>Reactive Energy QIV (Mvarh)</td>\n",
       "      <td>4226.1</td>\n",
       "    </tr>\n",
       "    <tr>\n",
       "      <th>7</th>\n",
       "      <td>Apparent Energy Imp. (MVAh)</td>\n",
       "      <td>20908.4</td>\n",
       "    </tr>\n",
       "    <tr>\n",
       "      <th>8</th>\n",
       "      <td>Apparent Energy Exp. (MVAh)</td>\n",
       "      <td>110979.1</td>\n",
       "    </tr>\n",
       "    <tr>\n",
       "      <th>9</th>\n",
       "      <td>Reactive Energy Imp. (Mvarh)</td>\n",
       "      <td>36123.6</td>\n",
       "    </tr>\n",
       "    <tr>\n",
       "      <th>10</th>\n",
       "      <td>Reactive Energy Exp. (Mvarh)</td>\n",
       "      <td>7814.1</td>\n",
       "    </tr>\n",
       "    <tr>\n",
       "      <th>11</th>\n",
       "      <td>Reactive Energy Ind. (Mvarh)</td>\n",
       "      <td>3978.4</td>\n",
       "    </tr>\n",
       "    <tr>\n",
       "      <th>12</th>\n",
       "      <td>Reactive Energy Cap. (Mvarh)</td>\n",
       "      <td>39959.3</td>\n",
       "    </tr>\n",
       "  </tbody>\n",
       "</table>\n",
       "</div>"
      ],
      "text/plain": [
       "                      parameters energy_values\n",
       "1       Active Energy Imp. (MWh)       20288.5\n",
       "2       Active Energy Exp. (MWh)       98499.9\n",
       "3     Reactive Energy QI (Mvarh)         390.4\n",
       "4    Reactive Energy QII (Mvarh)       35733.2\n",
       "5   Reactive Energy QIII (Mvarh)        3588.0\n",
       "6    Reactive Energy QIV (Mvarh)        4226.1\n",
       "7    Apparent Energy Imp. (MVAh)       20908.4\n",
       "8    Apparent Energy Exp. (MVAh)      110979.1\n",
       "9   Reactive Energy Imp. (Mvarh)       36123.6\n",
       "10  Reactive Energy Exp. (Mvarh)        7814.1\n",
       "11  Reactive Energy Ind. (Mvarh)        3978.4\n",
       "12  Reactive Energy Cap. (Mvarh)       39959.3"
      ]
     },
     "execution_count": 27,
     "metadata": {},
     "output_type": "execute_result"
    }
   ],
   "source": [
    "df.dropna(inplace=True)\n",
    "#df = df.head(2)\n",
    "df"
   ]
  },
  {
   "cell_type": "code",
   "execution_count": 28,
   "metadata": {},
   "outputs": [
    {
     "data": {
      "text/html": [
       "<div>\n",
       "<style scoped>\n",
       "    .dataframe tbody tr th:only-of-type {\n",
       "        vertical-align: middle;\n",
       "    }\n",
       "\n",
       "    .dataframe tbody tr th {\n",
       "        vertical-align: top;\n",
       "    }\n",
       "\n",
       "    .dataframe thead th {\n",
       "        text-align: right;\n",
       "    }\n",
       "</style>\n",
       "<table border=\"1\" class=\"dataframe\">\n",
       "  <thead>\n",
       "    <tr style=\"text-align: right;\">\n",
       "      <th></th>\n",
       "      <th>parameters</th>\n",
       "      <th>energy_values</th>\n",
       "    </tr>\n",
       "  </thead>\n",
       "  <tbody>\n",
       "    <tr>\n",
       "      <th>1</th>\n",
       "      <td>active_energy_imp</td>\n",
       "      <td>20288.5</td>\n",
       "    </tr>\n",
       "    <tr>\n",
       "      <th>2</th>\n",
       "      <td>active_energy_exp</td>\n",
       "      <td>98499.9</td>\n",
       "    </tr>\n",
       "    <tr>\n",
       "      <th>3</th>\n",
       "      <td>reactive_energy_qi_(mvarh)</td>\n",
       "      <td>390.4</td>\n",
       "    </tr>\n",
       "    <tr>\n",
       "      <th>4</th>\n",
       "      <td>reactive_energy_qii_(mvarh)</td>\n",
       "      <td>35733.2</td>\n",
       "    </tr>\n",
       "    <tr>\n",
       "      <th>5</th>\n",
       "      <td>reactive_energy_qiii_(mvarh)</td>\n",
       "      <td>3588.0</td>\n",
       "    </tr>\n",
       "    <tr>\n",
       "      <th>6</th>\n",
       "      <td>reactive_energy_qiv_(mvarh)</td>\n",
       "      <td>4226.1</td>\n",
       "    </tr>\n",
       "    <tr>\n",
       "      <th>7</th>\n",
       "      <td>apparent_energy_imp</td>\n",
       "      <td>20908.4</td>\n",
       "    </tr>\n",
       "    <tr>\n",
       "      <th>8</th>\n",
       "      <td>apparent_energy_exp</td>\n",
       "      <td>110979.1</td>\n",
       "    </tr>\n",
       "    <tr>\n",
       "      <th>9</th>\n",
       "      <td>reactive_energy_imp</td>\n",
       "      <td>36123.6</td>\n",
       "    </tr>\n",
       "    <tr>\n",
       "      <th>10</th>\n",
       "      <td>reactive_energy_exp</td>\n",
       "      <td>7814.1</td>\n",
       "    </tr>\n",
       "    <tr>\n",
       "      <th>11</th>\n",
       "      <td>reactive_energy_ind</td>\n",
       "      <td>3978.4</td>\n",
       "    </tr>\n",
       "    <tr>\n",
       "      <th>12</th>\n",
       "      <td>reactive_energy_cap</td>\n",
       "      <td>39959.3</td>\n",
       "    </tr>\n",
       "  </tbody>\n",
       "</table>\n",
       "</div>"
      ],
      "text/plain": [
       "                      parameters energy_values\n",
       "1              active_energy_imp       20288.5\n",
       "2              active_energy_exp       98499.9\n",
       "3     reactive_energy_qi_(mvarh)         390.4\n",
       "4    reactive_energy_qii_(mvarh)       35733.2\n",
       "5   reactive_energy_qiii_(mvarh)        3588.0\n",
       "6    reactive_energy_qiv_(mvarh)        4226.1\n",
       "7            apparent_energy_imp       20908.4\n",
       "8            apparent_energy_exp      110979.1\n",
       "9            reactive_energy_imp       36123.6\n",
       "10           reactive_energy_exp        7814.1\n",
       "11           reactive_energy_ind        3978.4\n",
       "12           reactive_energy_cap       39959.3"
      ]
     },
     "execution_count": 28,
     "metadata": {},
     "output_type": "execute_result"
    }
   ],
   "source": [
    "df['parameters'] = df['parameters'].str.replace(\" \",\"_\").str.lower().str.strip().str.split(\".\", expand=True)[0]\n",
    "df"
   ]
  },
  {
   "cell_type": "code",
   "execution_count": 29,
   "metadata": {},
   "outputs": [
    {
     "data": {
      "text/html": [
       "<div>\n",
       "<style scoped>\n",
       "    .dataframe tbody tr th:only-of-type {\n",
       "        vertical-align: middle;\n",
       "    }\n",
       "\n",
       "    .dataframe tbody tr th {\n",
       "        vertical-align: top;\n",
       "    }\n",
       "\n",
       "    .dataframe thead th {\n",
       "        text-align: right;\n",
       "    }\n",
       "</style>\n",
       "<table border=\"1\" class=\"dataframe\">\n",
       "  <thead>\n",
       "    <tr style=\"text-align: right;\">\n",
       "      <th></th>\n",
       "      <th>parameters</th>\n",
       "      <th>energy_values</th>\n",
       "    </tr>\n",
       "  </thead>\n",
       "  <tbody>\n",
       "    <tr>\n",
       "      <th>1</th>\n",
       "      <td>active_energy_imp</td>\n",
       "      <td>20288.5</td>\n",
       "    </tr>\n",
       "    <tr>\n",
       "      <th>2</th>\n",
       "      <td>active_energy_exp</td>\n",
       "      <td>98499.9</td>\n",
       "    </tr>\n",
       "    <tr>\n",
       "      <th>7</th>\n",
       "      <td>apparent_energy_imp</td>\n",
       "      <td>20908.4</td>\n",
       "    </tr>\n",
       "    <tr>\n",
       "      <th>9</th>\n",
       "      <td>reactive_energy_imp</td>\n",
       "      <td>36123.6</td>\n",
       "    </tr>\n",
       "    <tr>\n",
       "      <th>10</th>\n",
       "      <td>reactive_energy_exp</td>\n",
       "      <td>7814.1</td>\n",
       "    </tr>\n",
       "  </tbody>\n",
       "</table>\n",
       "</div>"
      ],
      "text/plain": [
       "             parameters energy_values\n",
       "1     active_energy_imp       20288.5\n",
       "2     active_energy_exp       98499.9\n",
       "7   apparent_energy_imp       20908.4\n",
       "9   reactive_energy_imp       36123.6\n",
       "10  reactive_energy_exp        7814.1"
      ]
     },
     "execution_count": 29,
     "metadata": {},
     "output_type": "execute_result"
    }
   ],
   "source": [
    "values_needed = ['active_energy_imp','active_energy_exp','apparent_energy_imp',\n",
    "                 'reactive_energy_imp','reactive_energy_exp']\n",
    "df = df[df['parameters'].isin(values_needed)]\n",
    "df"
   ]
  },
  {
   "cell_type": "code",
   "execution_count": 30,
   "metadata": {},
   "outputs": [
    {
     "data": {
      "text/plain": [
       "1000"
      ]
     },
     "execution_count": 30,
     "metadata": {},
     "output_type": "execute_result"
    }
   ],
   "source": [
    "df_rates = pd.read_table(files[1])\n",
    "df_rates = df_rates.rename(columns={df_rates.columns[0]: 'parameters'})\n",
    "units = df_rates.loc[0, 'parameters'].split(\".\")[1].strip().strip(\"()\")\n",
    "if units == 'MWh':\n",
    "    units_multiplier = 1000\n",
    "\n",
    "elif units == 'kWh':\n",
    "    units_multiplier = 1\n",
    "\n",
    "elif units == 'GWh':\n",
    "    units_multiplier = 1000000\n",
    "\n",
    "units_multiplier"
   ]
  },
  {
   "cell_type": "code",
   "execution_count": 31,
   "metadata": {},
   "outputs": [
    {
     "data": {
      "text/html": [
       "<div>\n",
       "<style scoped>\n",
       "    .dataframe tbody tr th:only-of-type {\n",
       "        vertical-align: middle;\n",
       "    }\n",
       "\n",
       "    .dataframe tbody tr th {\n",
       "        vertical-align: top;\n",
       "    }\n",
       "\n",
       "    .dataframe thead th {\n",
       "        text-align: right;\n",
       "    }\n",
       "</style>\n",
       "<table border=\"1\" class=\"dataframe\">\n",
       "  <thead>\n",
       "    <tr style=\"text-align: right;\">\n",
       "      <th></th>\n",
       "      <th>parameters</th>\n",
       "      <th>Rate 1</th>\n",
       "      <th>Rate 2</th>\n",
       "      <th>Rate 3</th>\n",
       "      <th>Rate 4</th>\n",
       "      <th>Rate 5</th>\n",
       "      <th>Rate 6</th>\n",
       "      <th>Rate 7</th>\n",
       "      <th>Rate 8</th>\n",
       "    </tr>\n",
       "  </thead>\n",
       "  <tbody>\n",
       "    <tr>\n",
       "      <th>0</th>\n",
       "      <td>active_energy_imp</td>\n",
       "      <td>11406.8</td>\n",
       "      <td>4289.1</td>\n",
       "      <td>4592.6</td>\n",
       "      <td>0.0</td>\n",
       "      <td>0.0</td>\n",
       "      <td>0.0</td>\n",
       "      <td>0.0</td>\n",
       "      <td>0.0</td>\n",
       "    </tr>\n",
       "    <tr>\n",
       "      <th>1</th>\n",
       "      <td>active_energy_exp</td>\n",
       "      <td>50296.7</td>\n",
       "      <td>30065.7</td>\n",
       "      <td>18615.6</td>\n",
       "      <td>0.0</td>\n",
       "      <td>0.0</td>\n",
       "      <td>0.0</td>\n",
       "      <td>0.0</td>\n",
       "      <td>0.0</td>\n",
       "    </tr>\n",
       "  </tbody>\n",
       "</table>\n",
       "</div>"
      ],
      "text/plain": [
       "          parameters   Rate 1   Rate 2   Rate 3  Rate 4  Rate 5  Rate 6  \\\n",
       "0  active_energy_imp  11406.8   4289.1   4592.6     0.0     0.0     0.0   \n",
       "1  active_energy_exp  50296.7  30065.7  18615.6     0.0     0.0     0.0   \n",
       "\n",
       "   Rate 7  Rate 8  \n",
       "0     0.0     0.0  \n",
       "1     0.0     0.0  "
      ]
     },
     "execution_count": 31,
     "metadata": {},
     "output_type": "execute_result"
    }
   ],
   "source": [
    "df_rates['parameters'] = df_rates['parameters'].str.replace(\" \",\"_\").str.lower().str.strip().str.split(\".\", expand=True)[0]\n",
    "df_rates = df_rates.head(2)\n",
    "df_rates"
   ]
  },
  {
   "cell_type": "code",
   "execution_count": 32,
   "metadata": {},
   "outputs": [],
   "source": [
    "#df_final = df.merge(df_rates, how='inner', on=\"parameters\")"
   ]
  },
  {
   "cell_type": "code",
   "execution_count": 33,
   "metadata": {},
   "outputs": [
    {
     "data": {
      "text/plain": [
       "'20288.5'"
      ]
     },
     "execution_count": 33,
     "metadata": {},
     "output_type": "execute_result"
    }
   ],
   "source": [
    "cumulative_import = df.loc[df['parameters'] == 'active_energy_imp', 'energy_values'].values[0]\n",
    "cumulative_import"
   ]
  },
  {
   "cell_type": "code",
   "execution_count": 34,
   "metadata": {},
   "outputs": [],
   "source": [
    "cumulative_import = df.loc[df['parameters'] == 'active_energy_imp', 'energy_values'].values[0]\n",
    "cumulative_export = df.loc[df['parameters'] == 'active_energy_exp', 'energy_values'].values[0]\n",
    "apparent_import = df.loc[df['parameters'] == 'apparent_energy_imp', 'energy_values'].values[0]\n",
    "reactive_import = df.loc[df['parameters'] == 'reactive_energy_imp', 'energy_values'].values[0]\n",
    "reactive_export = df.loc[df['parameters'] == 'reactive_energy_exp', 'energy_values'].values[0]\n",
    "\n",
    "rate1 = df_rates.loc[0, 'Rate 1']\n",
    "rate2 = df_rates.loc[0, 'Rate 2']\n",
    "rate3 = df_rates.loc[0, 'Rate 3']\n",
    "\n",
    "rate4 = df_rates.loc[1, 'Rate 1']\n",
    "rate5 = df_rates.loc[1, 'Rate 2']\n",
    "rate6 = df_rates.loc[1, 'Rate 3']"
   ]
  },
  {
   "cell_type": "code",
   "execution_count": 43,
   "metadata": {},
   "outputs": [
    {
     "data": {
      "text/plain": [
       "{'cumulative_import': 20288500.0,\n",
       " 'cumulative_export': 98499900.0,\n",
       " 'apparent_import': 20908400.0,\n",
       " 'reactive_import': 36123600.0,\n",
       " 'reactive_export': 7814100.0,\n",
       " 'rate1': 11406800.0,\n",
       " 'rate2': 4289100.0,\n",
       " 'rate3': 4592600.0,\n",
       " 'rate4': 50296700.0,\n",
       " 'rate5': 30065700.0,\n",
       " 'rate6': 18615600.0}"
      ]
     },
     "execution_count": 43,
     "metadata": {},
     "output_type": "execute_result"
    }
   ],
   "source": [
    "billing_values = {'cumulative_import': cumulative_import,'cumulative_export': cumulative_export,'apparent_import': apparent_import,\n",
    "    'reactive_import': reactive_import, 'reactive_export': reactive_export, 'rate1': rate1, 'rate2': rate2, 'rate3': rate3,\n",
    "    'rate4': rate4,'rate5': rate5,'rate6': rate6\n",
    "}\n",
    "for key, value in billing_values.items():\n",
    "    billing_values[key] = float(value) * units_multiplier\n",
    "\n",
    "billing_values"
   ]
  },
  {
   "cell_type": "code",
   "execution_count": 44,
   "metadata": {},
   "outputs": [
    {
     "data": {
      "text/plain": [
       "{'cumulative_import': 20288500.0,\n",
       " 'cumulative_export': 98499900.0,\n",
       " 'apparent_import': 20908400.0,\n",
       " 'reactive_import': 36123600.0,\n",
       " 'reactive_export': 7814100.0,\n",
       " 'rate1': 11406800.0,\n",
       " 'rate2': 4289100.0,\n",
       " 'rate3': 4592600.0,\n",
       " 'rate4': 50296700.0,\n",
       " 'rate5': 30065700.0,\n",
       " 'rate6': 18615600.0,\n",
       " 'vt_ratio': <NA>,\n",
       " 'ct_ratio': <NA>,\n",
       " 'no_of_resets': <NA>,\n",
       " 'date_of_last_reset': <NA>,\n",
       " 'programing_count': <NA>,\n",
       " 'max_dem1': <NA>,\n",
       " 'max_dem1_datetime': <NA>,\n",
       " 'max_dem2': <NA>,\n",
       " 'max_dem2_datetime': <NA>,\n",
       " 'max_dem3': <NA>,\n",
       " 'max_dem3_datetime': <NA>}"
      ]
     },
     "execution_count": 44,
     "metadata": {},
     "output_type": "execute_result"
    }
   ],
   "source": [
    "\n",
    "columns_to_assign_na = ['vt_ratio', 'ct_ratio', 'no_of_resets', 'date_of_last_reset', 'programing_count',\n",
    "    'max_dem1','max_dem1_datetime','max_dem2','max_dem2_datetime','max_dem3','max_dem3_datetime']\n",
    "\n",
    "for key in columns_to_assign_na:\n",
    "    billing_values[key] = pd.NA\n",
    "billing_values"
   ]
  },
  {
   "cell_type": "code",
   "execution_count": 36,
   "metadata": {
    "vscode": {
     "languageId": "javascript"
    }
   },
   "outputs": [
    {
     "name": "stderr",
     "output_type": "stream",
     "text": [
      "C:\\Users\\HP\\AppData\\Local\\Temp\\ipykernel_27116\\1270053271.py:18: FutureWarning: The behavior of DataFrame concatenation with empty or all-NA entries is deprecated. In a future version, this will no longer exclude empty or all-NA columns when determining the result dtypes. To retain the old behavior, exclude the relevant entries before the concat operation.\n",
      "  new_df = pd.concat([new_df, row1], ignore_index = True)\n"
     ]
    },
    {
     "data": {
      "text/html": [
       "<div>\n",
       "<style scoped>\n",
       "    .dataframe tbody tr th:only-of-type {\n",
       "        vertical-align: middle;\n",
       "    }\n",
       "\n",
       "    .dataframe tbody tr th {\n",
       "        vertical-align: top;\n",
       "    }\n",
       "\n",
       "    .dataframe thead th {\n",
       "        text-align: right;\n",
       "    }\n",
       "</style>\n",
       "<table border=\"1\" class=\"dataframe\">\n",
       "  <thead>\n",
       "    <tr style=\"text-align: right;\">\n",
       "      <th></th>\n",
       "      <th>cumulative_import</th>\n",
       "      <th>cumulative_export</th>\n",
       "      <th>apparent_import</th>\n",
       "      <th>reactive_import</th>\n",
       "      <th>reactive_export</th>\n",
       "      <th>rate1</th>\n",
       "      <th>rate2</th>\n",
       "      <th>rate3</th>\n",
       "      <th>rate4</th>\n",
       "      <th>rate5</th>\n",
       "      <th>rate6</th>\n",
       "    </tr>\n",
       "  </thead>\n",
       "  <tbody>\n",
       "    <tr>\n",
       "      <th>0</th>\n",
       "      <td>20288.5</td>\n",
       "      <td>98499.9</td>\n",
       "      <td>20908.4</td>\n",
       "      <td>36123.6</td>\n",
       "      <td>7814.1</td>\n",
       "      <td>11406.8</td>\n",
       "      <td>4289.1</td>\n",
       "      <td>4592.6</td>\n",
       "      <td>50296.7</td>\n",
       "      <td>30065.7</td>\n",
       "      <td>18615.6</td>\n",
       "    </tr>\n",
       "  </tbody>\n",
       "</table>\n",
       "</div>"
      ],
      "text/plain": [
       "  cumulative_import cumulative_export apparent_import reactive_import  \\\n",
       "0           20288.5           98499.9         20908.4         36123.6   \n",
       "\n",
       "  reactive_export    rate1   rate2   rate3    rate4    rate5    rate6  \n",
       "0          7814.1  11406.8  4289.1  4592.6  50296.7  30065.7  18615.6  "
      ]
     },
     "execution_count": 36,
     "metadata": {},
     "output_type": "execute_result"
    }
   ],
   "source": [
    "new_df = pd.DataFrame(columns=['cumulative_import', 'cumulative_export','apparent_import','reactive_import',\n",
    "    'reactive_export','rate1', 'rate2', 'rate3', 'rate4', 'rate5', 'rate6'])\n",
    "\n",
    "row1 = pd.DataFrame({\n",
    "    'cumulative_import': [cumulative_import],\n",
    "    'cumulative_export': [cumulative_export],\n",
    "    'apparent_import': [apparent_import],\n",
    "    'reactive_import': [reactive_import],\n",
    "    'reactive_export': [reactive_export],\n",
    "    'rate1': [rate1],\n",
    "    'rate2': [rate2],\n",
    "    'rate3': [rate3],\n",
    "    'rate4': [rate4],\n",
    "    'rate5': [rate5],\n",
    "    'rate6': [rate6]\n",
    "})\n",
    "\n",
    "new_df = pd.concat([new_df, row1], ignore_index = True)\n",
    "new_df"
   ]
  },
  {
   "cell_type": "code",
   "execution_count": 37,
   "metadata": {
    "vscode": {
     "languageId": "javascript"
    }
   },
   "outputs": [
    {
     "data": {
      "text/html": [
       "<div>\n",
       "<style scoped>\n",
       "    .dataframe tbody tr th:only-of-type {\n",
       "        vertical-align: middle;\n",
       "    }\n",
       "\n",
       "    .dataframe tbody tr th {\n",
       "        vertical-align: top;\n",
       "    }\n",
       "\n",
       "    .dataframe thead th {\n",
       "        text-align: right;\n",
       "    }\n",
       "</style>\n",
       "<table border=\"1\" class=\"dataframe\">\n",
       "  <thead>\n",
       "    <tr style=\"text-align: right;\">\n",
       "      <th></th>\n",
       "      <th>cumulative_import</th>\n",
       "      <th>cumulative_export</th>\n",
       "      <th>apparent_import</th>\n",
       "      <th>reactive_import</th>\n",
       "      <th>reactive_export</th>\n",
       "      <th>rate1</th>\n",
       "      <th>rate2</th>\n",
       "      <th>rate3</th>\n",
       "      <th>rate4</th>\n",
       "      <th>rate5</th>\n",
       "      <th>...</th>\n",
       "      <th>ct_ratio</th>\n",
       "      <th>no_of_resets</th>\n",
       "      <th>date_of_last_reset</th>\n",
       "      <th>programing_count</th>\n",
       "      <th>max_dem1</th>\n",
       "      <th>max_dem1_datetime</th>\n",
       "      <th>max_dem2</th>\n",
       "      <th>max_dem2_datetime</th>\n",
       "      <th>max_dem3</th>\n",
       "      <th>max_dem3_datetime</th>\n",
       "    </tr>\n",
       "  </thead>\n",
       "  <tbody>\n",
       "    <tr>\n",
       "      <th>0</th>\n",
       "      <td>20288.5</td>\n",
       "      <td>98499.9</td>\n",
       "      <td>20908.4</td>\n",
       "      <td>36123.6</td>\n",
       "      <td>7814.1</td>\n",
       "      <td>11406.8</td>\n",
       "      <td>4289.1</td>\n",
       "      <td>4592.6</td>\n",
       "      <td>50296.7</td>\n",
       "      <td>30065.7</td>\n",
       "      <td>...</td>\n",
       "      <td>&lt;NA&gt;</td>\n",
       "      <td>&lt;NA&gt;</td>\n",
       "      <td>&lt;NA&gt;</td>\n",
       "      <td>&lt;NA&gt;</td>\n",
       "      <td>&lt;NA&gt;</td>\n",
       "      <td>&lt;NA&gt;</td>\n",
       "      <td>&lt;NA&gt;</td>\n",
       "      <td>&lt;NA&gt;</td>\n",
       "      <td>&lt;NA&gt;</td>\n",
       "      <td>&lt;NA&gt;</td>\n",
       "    </tr>\n",
       "  </tbody>\n",
       "</table>\n",
       "<p>1 rows × 22 columns</p>\n",
       "</div>"
      ],
      "text/plain": [
       "  cumulative_import cumulative_export apparent_import reactive_import  \\\n",
       "0           20288.5           98499.9         20908.4         36123.6   \n",
       "\n",
       "  reactive_export    rate1   rate2   rate3    rate4    rate5  ...  ct_ratio  \\\n",
       "0          7814.1  11406.8  4289.1  4592.6  50296.7  30065.7  ...      <NA>   \n",
       "\n",
       "  no_of_resets date_of_last_reset programing_count max_dem1 max_dem1_datetime  \\\n",
       "0         <NA>               <NA>             <NA>     <NA>              <NA>   \n",
       "\n",
       "  max_dem2 max_dem2_datetime max_dem3 max_dem3_datetime  \n",
       "0     <NA>              <NA>     <NA>              <NA>  \n",
       "\n",
       "[1 rows x 22 columns]"
      ]
     },
     "execution_count": 37,
     "metadata": {},
     "output_type": "execute_result"
    }
   ],
   "source": [
    "columns_to_assign_na = ['vt_ratio', 'ct_ratio', 'no_of_resets', 'date_of_last_reset', 'programing_count',\n",
    "    'max_dem1','max_dem1_datetime','max_dem2','max_dem2_datetime','max_dem3','max_dem3_datetime']\n",
    "\n",
    "for column in columns_to_assign_na:\n",
    "    new_df[column] = pd.NA\n",
    "\n",
    "new_df"
   ]
  },
  {
   "cell_type": "code",
   "execution_count": 38,
   "metadata": {
    "vscode": {
     "languageId": "javascript"
    }
   },
   "outputs": [
    {
     "data": {
      "text/plain": [
       "Index(['cumulative_import', 'cumulative_export', 'apparent_import',\n",
       "       'reactive_import', 'reactive_export', 'rate1', 'rate2', 'rate3',\n",
       "       'rate4', 'rate5', 'rate6', 'vt_ratio', 'ct_ratio', 'no_of_resets',\n",
       "       'date_of_last_reset', 'programing_count', 'max_dem1',\n",
       "       'max_dem1_datetime', 'max_dem2', 'max_dem2_datetime', 'max_dem3',\n",
       "       'max_dem3_datetime'],\n",
       "      dtype='object')"
      ]
     },
     "execution_count": 38,
     "metadata": {},
     "output_type": "execute_result"
    }
   ],
   "source": [
    "new_df.columns"
   ]
  },
  {
   "cell_type": "code",
   "execution_count": 39,
   "metadata": {
    "vscode": {
     "languageId": "javascript"
    }
   },
   "outputs": [
    {
     "data": {
      "text/plain": [
       "0    20908.4\n",
       "Name: apparent_import, dtype: object"
      ]
     },
     "execution_count": 39,
     "metadata": {},
     "output_type": "execute_result"
    }
   ],
   "source": [
    "new_df['apparent_import']"
   ]
  },
  {
   "cell_type": "code",
   "execution_count": null,
   "metadata": {
    "vscode": {
     "languageId": "javascript"
    }
   },
   "outputs": [],
   "source": []
  }
 ],
 "metadata": {
  "kernelspec": {
   "display_name": "venv",
   "language": "python",
   "name": "python3"
  },
  "language_info": {
   "codemirror_mode": {
    "name": "ipython",
    "version": 3
   },
   "file_extension": ".py",
   "mimetype": "text/x-python",
   "name": "python",
   "nbconvert_exporter": "python",
   "pygments_lexer": "ipython3",
   "version": "3.13.1"
  }
 },
 "nbformat": 4,
 "nbformat_minor": 2
}
