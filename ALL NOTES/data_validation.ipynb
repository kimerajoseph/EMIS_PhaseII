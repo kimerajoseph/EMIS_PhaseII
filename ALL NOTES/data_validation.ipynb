{
 "cells": [
  {
   "cell_type": "code",
   "execution_count": 8,
   "metadata": {},
   "outputs": [],
   "source": [
    "import pandas as pd\n",
    "import numpy as np\n",
    "import openpyxl\n",
    "from datetime import datetime\n",
    "from dateutil.relativedelta import relativedelta\n",
    "import gc"
   ]
  },
  {
   "cell_type": "code",
   "execution_count": 9,
   "metadata": {},
   "outputs": [
    {
     "data": {
      "text/plain": [
       "'2024-12-01'"
      ]
     },
     "execution_count": 9,
     "metadata": {},
     "output_type": "execute_result"
    }
   ],
   "source": [
    "billing_period = \"2025-01-01\"\n",
    "dt = datetime.strptime(billing_period, \"%Y-%m-%d\")\n",
    "check_period = dt - relativedelta(months=1)\n",
    "check_period = check_period.strftime(\"%Y-%m-%d\")\n",
    "check_period"
   ]
  },
  {
   "cell_type": "code",
   "execution_count": 10,
   "metadata": {},
   "outputs": [
    {
     "data": {
      "text/html": [
       "<div>\n",
       "<style scoped>\n",
       "    .dataframe tbody tr th:only-of-type {\n",
       "        vertical-align: middle;\n",
       "    }\n",
       "\n",
       "    .dataframe tbody tr th {\n",
       "        vertical-align: top;\n",
       "    }\n",
       "\n",
       "    .dataframe thead th {\n",
       "        text-align: right;\n",
       "    }\n",
       "</style>\n",
       "<table border=\"1\" class=\"dataframe\">\n",
       "  <thead>\n",
       "    <tr style=\"text-align: right;\">\n",
       "      <th></th>\n",
       "      <th>billing_period</th>\n",
       "      <th>cumulative_import</th>\n",
       "      <th>cumulative_export</th>\n",
       "      <th>apparent_import</th>\n",
       "      <th>reactive_import</th>\n",
       "      <th>reactive_export</th>\n",
       "      <th>rate1</th>\n",
       "      <th>rate2</th>\n",
       "      <th>rate3</th>\n",
       "      <th>rate4</th>\n",
       "      <th>...</th>\n",
       "      <th>max_dem1_datetime</th>\n",
       "      <th>max_dem2</th>\n",
       "      <th>max_dem2_datetime</th>\n",
       "      <th>max_dem3</th>\n",
       "      <th>max_dem3_datetime</th>\n",
       "      <th>no_of_resets</th>\n",
       "      <th>vt_ratio</th>\n",
       "      <th>ct_ratio</th>\n",
       "      <th>date_of_last_reset</th>\n",
       "      <th>programing_count</th>\n",
       "    </tr>\n",
       "  </thead>\n",
       "  <tbody>\n",
       "    <tr>\n",
       "      <th>0</th>\n",
       "      <td>2025-01-01</td>\n",
       "      <td>1.069055e+09</td>\n",
       "      <td>1.069055e+09</td>\n",
       "      <td>1.124499e+09</td>\n",
       "      <td>3.392634e+08</td>\n",
       "      <td>40923.367468</td>\n",
       "      <td>5.776792e+08</td>\n",
       "      <td>3.154953e+08</td>\n",
       "      <td>1.758809e+08</td>\n",
       "      <td>8.378414</td>\n",
       "      <td>...</td>\n",
       "      <td>2025-01-08 15:00</td>\n",
       "      <td>19028160.0</td>\n",
       "      <td>2025-01-20 20:30</td>\n",
       "      <td>12252480.0</td>\n",
       "      <td>2025-01-17 00:30</td>\n",
       "      <td>136.0</td>\n",
       "      <td>NaN</td>\n",
       "      <td>NaN</td>\n",
       "      <td>NaN</td>\n",
       "      <td>NaN</td>\n",
       "    </tr>\n",
       "    <tr>\n",
       "      <th>1</th>\n",
       "      <td>2024-12-01</td>\n",
       "      <td>1.058682e+09</td>\n",
       "      <td>1.058682e+09</td>\n",
       "      <td>1.113764e+09</td>\n",
       "      <td>3.365440e+08</td>\n",
       "      <td>40923.367468</td>\n",
       "      <td>5.719287e+08</td>\n",
       "      <td>3.125647e+08</td>\n",
       "      <td>1.741887e+08</td>\n",
       "      <td>8.378414</td>\n",
       "      <td>...</td>\n",
       "      <td>2024-12-12 12:30</td>\n",
       "      <td>28769280.0</td>\n",
       "      <td>2024-12-11 23:30</td>\n",
       "      <td>21890880.0</td>\n",
       "      <td>2024-12-12 01:30</td>\n",
       "      <td>135.0</td>\n",
       "      <td>NaN</td>\n",
       "      <td>NaN</td>\n",
       "      <td>NaN</td>\n",
       "      <td>NaN</td>\n",
       "    </tr>\n",
       "  </tbody>\n",
       "</table>\n",
       "<p>2 rows × 23 columns</p>\n",
       "</div>"
      ],
      "text/plain": [
       "  billing_period  cumulative_import  cumulative_export  apparent_import  \\\n",
       "0     2025-01-01       1.069055e+09       1.069055e+09     1.124499e+09   \n",
       "1     2024-12-01       1.058682e+09       1.058682e+09     1.113764e+09   \n",
       "\n",
       "   reactive_import  reactive_export         rate1         rate2         rate3  \\\n",
       "0     3.392634e+08     40923.367468  5.776792e+08  3.154953e+08  1.758809e+08   \n",
       "1     3.365440e+08     40923.367468  5.719287e+08  3.125647e+08  1.741887e+08   \n",
       "\n",
       "      rate4  ...  max_dem1_datetime    max_dem2  max_dem2_datetime  \\\n",
       "0  8.378414  ...   2025-01-08 15:00  19028160.0   2025-01-20 20:30   \n",
       "1  8.378414  ...   2024-12-12 12:30  28769280.0   2024-12-11 23:30   \n",
       "\n",
       "     max_dem3  max_dem3_datetime no_of_resets  vt_ratio ct_ratio  \\\n",
       "0  12252480.0   2025-01-17 00:30        136.0       NaN      NaN   \n",
       "1  21890880.0   2024-12-12 01:30        135.0       NaN      NaN   \n",
       "\n",
       "   date_of_last_reset  programing_count  \n",
       "0                 NaN               NaN  \n",
       "1                 NaN               NaN  \n",
       "\n",
       "[2 rows x 23 columns]"
      ]
     },
     "execution_count": 10,
     "metadata": {},
     "output_type": "execute_result"
    }
   ],
   "source": [
    "# Filter for specific dates\n",
    "new_df = pd.read_excel(\"Elster A1700/new_df.xlsx\")\n",
    "filtered_df = new_df[new_df['billing_period'].isin([billing_period, check_period])]\n",
    "filtered_df"
   ]
  },
  {
   "cell_type": "code",
   "execution_count": 12,
   "metadata": {},
   "outputs": [
    {
     "data": {
      "text/html": [
       "<div>\n",
       "<style scoped>\n",
       "    .dataframe tbody tr th:only-of-type {\n",
       "        vertical-align: middle;\n",
       "    }\n",
       "\n",
       "    .dataframe tbody tr th {\n",
       "        vertical-align: top;\n",
       "    }\n",
       "\n",
       "    .dataframe thead th {\n",
       "        text-align: right;\n",
       "    }\n",
       "</style>\n",
       "<table border=\"1\" class=\"dataframe\">\n",
       "  <thead>\n",
       "    <tr style=\"text-align: right;\">\n",
       "      <th></th>\n",
       "      <th>cumulative_import</th>\n",
       "      <th>cumulative_export</th>\n",
       "      <th>rate1</th>\n",
       "      <th>rate2</th>\n",
       "      <th>rate3</th>\n",
       "      <th>rate4</th>\n",
       "      <th>rate5</th>\n",
       "      <th>rate6</th>\n",
       "    </tr>\n",
       "  </thead>\n",
       "  <tbody>\n",
       "    <tr>\n",
       "      <th>0</th>\n",
       "      <td>1.069055e+09</td>\n",
       "      <td>1.069055e+09</td>\n",
       "      <td>5.776792e+08</td>\n",
       "      <td>3.154953e+08</td>\n",
       "      <td>1.758809e+08</td>\n",
       "      <td>8.378414</td>\n",
       "      <td>0.00549</td>\n",
       "      <td>0.0</td>\n",
       "    </tr>\n",
       "    <tr>\n",
       "      <th>1</th>\n",
       "      <td>1.058682e+09</td>\n",
       "      <td>1.058682e+09</td>\n",
       "      <td>5.719287e+08</td>\n",
       "      <td>3.125647e+08</td>\n",
       "      <td>1.741887e+08</td>\n",
       "      <td>8.378414</td>\n",
       "      <td>0.00549</td>\n",
       "      <td>0.0</td>\n",
       "    </tr>\n",
       "    <tr>\n",
       "      <th>2</th>\n",
       "      <td>1.037337e+07</td>\n",
       "      <td>1.037337e+07</td>\n",
       "      <td>5.750557e+06</td>\n",
       "      <td>2.930541e+06</td>\n",
       "      <td>1.692268e+06</td>\n",
       "      <td>0.000000</td>\n",
       "      <td>0.00000</td>\n",
       "      <td>0.0</td>\n",
       "    </tr>\n",
       "  </tbody>\n",
       "</table>\n",
       "</div>"
      ],
      "text/plain": [
       "   cumulative_import  cumulative_export         rate1         rate2  \\\n",
       "0       1.069055e+09       1.069055e+09  5.776792e+08  3.154953e+08   \n",
       "1       1.058682e+09       1.058682e+09  5.719287e+08  3.125647e+08   \n",
       "2       1.037337e+07       1.037337e+07  5.750557e+06  2.930541e+06   \n",
       "\n",
       "          rate3     rate4    rate5  rate6  \n",
       "0  1.758809e+08  8.378414  0.00549    0.0  \n",
       "1  1.741887e+08  8.378414  0.00549    0.0  \n",
       "2  1.692268e+06  0.000000  0.00000    0.0  "
      ]
     },
     "execution_count": 12,
     "metadata": {},
     "output_type": "execute_result"
    }
   ],
   "source": [
    "# Compute difference between row 0 and row 1\n",
    "filtered_df = filtered_df[['cumulative_import', 'cumulative_export', 'rate1', 'rate2', 'rate3','rate4','rate5','rate6' ]]\n",
    "filtered_df = filtered_df.astype(float)\n",
    "diff_row = filtered_df.iloc[0] - filtered_df.iloc[1]\n",
    "\n",
    "\n",
    "# Append the new row to the DataFrame\n",
    "filtered_df.loc[len(filtered_df)] = diff_row\n",
    "filtered_df\n"
   ]
  },
  {
   "cell_type": "code",
   "execution_count": 13,
   "metadata": {},
   "outputs": [
    {
     "name": "stdout",
     "output_type": "stream",
     "text": [
      "All values in row 0 are greater than or equal to row 1\n"
     ]
    }
   ],
   "source": [
    "#comparison = filtered_df.iloc[0] >= filtered_df.iloc[1]\n",
    "# comfirm values in row 0 are greater than or equal to row 1\n",
    "if (filtered_df.iloc[0] >= filtered_df.iloc[1]).all() == True:\n",
    "    print(\"All values in row 0 are greater than or equal to row 1\")\n",
    "else:\n",
    "    print(\"At least one value in row 0 is less than row 1\")"
   ]
  },
  {
   "cell_type": "code",
   "execution_count": 14,
   "metadata": {},
   "outputs": [
    {
     "data": {
      "text/plain": [
       "(-5.960464477539063e-08, 10373366.399999976)"
      ]
     },
     "execution_count": 14,
     "metadata": {},
     "output_type": "execute_result"
    }
   ],
   "source": [
    "filtered_df['difference_import'] = filtered_df['cumulative_import']- (filtered_df['rate1'] + filtered_df['rate2'] + filtered_df['rate3']) \n",
    "filtered_df['difference_export'] = filtered_df['cumulative_export']- (filtered_df['rate4'] + filtered_df['rate5'] + filtered_df['rate6']) \n",
    "import_diff  = float(filtered_df['difference_import'].iloc[-1])\n",
    "export_diff  = float(filtered_df['difference_export'].iloc[-1])\n",
    "import_diff, export_diff"
   ]
  }
 ],
 "metadata": {
  "kernelspec": {
   "display_name": "venv",
   "language": "python",
   "name": "python3"
  },
  "language_info": {
   "codemirror_mode": {
    "name": "ipython",
    "version": 3
   },
   "file_extension": ".py",
   "mimetype": "text/x-python",
   "name": "python",
   "nbconvert_exporter": "python",
   "pygments_lexer": "ipython3",
   "version": "3.13.1"
  }
 },
 "nbformat": 4,
 "nbformat_minor": 2
}
