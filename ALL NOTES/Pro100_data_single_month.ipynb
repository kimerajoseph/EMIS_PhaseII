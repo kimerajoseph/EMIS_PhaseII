{
 "cells": [
  {
   "cell_type": "code",
   "execution_count": 52,
   "metadata": {},
   "outputs": [],
   "source": [
    "import pandas as pd\n",
    "import numpy as np\n",
    "import openpyxl\n",
    "from datetime import datetime"
   ]
  },
  {
   "cell_type": "code",
   "execution_count": 53,
   "metadata": {},
   "outputs": [],
   "source": [
    "files = ['WP020204 - 20-Feb-2025 12-22-34-000 PM - MainEnergy.xls', 'WP020204 - 20-Feb-2025 12-22-34-000 PM - TODEnergy.xls']"
   ]
  },
  {
   "cell_type": "code",
   "execution_count": 54,
   "metadata": {},
   "outputs": [
    {
     "data": {
      "text/plain": [
       "'WP020204'"
      ]
     },
     "execution_count": 54,
     "metadata": {},
     "output_type": "execute_result"
    }
   ],
   "source": [
    "serial_no = files[0].split(\"-\")[0].strip()\n",
    "serial_no"
   ]
  },
  {
   "cell_type": "code",
   "execution_count": 55,
   "metadata": {},
   "outputs": [],
   "source": [
    "# Read the Excel file\n",
    "df = pd.read_excel(files[0])\n",
    "df = df.drop(index=[0, 1]).reset_index(drop=True) #drop the first two rows\n",
    "\n",
    "# assign values of the third row as column names\n",
    "df.columns = df.iloc[0]\n",
    "df = df.drop(0).reset_index(drop=True)\n",
    "#df.head()"
   ]
  },
  {
   "cell_type": "code",
   "execution_count": 56,
   "metadata": {},
   "outputs": [
    {
     "data": {
      "text/html": [
       "<div>\n",
       "<style scoped>\n",
       "    .dataframe tbody tr th:only-of-type {\n",
       "        vertical-align: middle;\n",
       "    }\n",
       "\n",
       "    .dataframe tbody tr th {\n",
       "        vertical-align: top;\n",
       "    }\n",
       "\n",
       "    .dataframe thead th {\n",
       "        text-align: right;\n",
       "    }\n",
       "</style>\n",
       "<table border=\"1\" class=\"dataframe\">\n",
       "  <thead>\n",
       "    <tr style=\"text-align: right;\">\n",
       "      <th></th>\n",
       "      <th>History</th>\n",
       "      <th>billing_period</th>\n",
       "      <th>cumulative_import</th>\n",
       "      <th>cumulative_export</th>\n",
       "      <th>apparent_import</th>\n",
       "      <th>reactive_import</th>\n",
       "      <th>reactive_export</th>\n",
       "      <th>month</th>\n",
       "      <th>year</th>\n",
       "    </tr>\n",
       "  </thead>\n",
       "  <tbody>\n",
       "    <tr>\n",
       "      <th>1</th>\n",
       "      <td>1</td>\n",
       "      <td>2025-02-01</td>\n",
       "      <td>176406172.578899</td>\n",
       "      <td>45036.513</td>\n",
       "      <td>187551818.269299</td>\n",
       "      <td>51925429.9622</td>\n",
       "      <td>899196.0148</td>\n",
       "      <td>February</td>\n",
       "      <td>2025</td>\n",
       "    </tr>\n",
       "  </tbody>\n",
       "</table>\n",
       "</div>"
      ],
      "text/plain": [
       "0 History billing_period cumulative_import cumulative_export  \\\n",
       "1       1     2025-02-01  176406172.578899         45036.513   \n",
       "\n",
       "0   apparent_import reactive_import reactive_export     month  year  \n",
       "1  187551818.269299   51925429.9622     899196.0148  February  2025  "
      ]
     },
     "execution_count": 56,
     "metadata": {},
     "output_type": "execute_result"
    }
   ],
   "source": [
    "column_list = {\"Billing Date\":'billing_period',\"Active(I) Total\":\"cumulative_import\",\n",
    "    \"Active(E) Total\":\"cumulative_export\",\"Apparent-Active(I) - type 2\":\"apparent_import\",\n",
    "    \"Reactive(I)\":\"reactive_import\",\"Reactive(E)\":\"reactive_export\"}\n",
    "\n",
    "df = df.rename(columns=column_list)\n",
    "df = df[df[\"History\"] != 0] #drop this row because we can not parse its date string (its empty)\n",
    "df['billing_period'] = pd.to_datetime(df['billing_period']).dt.normalize()\n",
    "df['month'] = pd.to_datetime(df['billing_period']).dt.month_name()\n",
    "df['year'] = pd.to_datetime(df['billing_period']).dt.year\n",
    "\n",
    "# select needed columns\n",
    "column_list = ['History', 'billing_period', 'cumulative_import', 'cumulative_export',\n",
    "      'apparent_import', 'reactive_import', 'reactive_export','month', 'year']\n",
    "df = df[column_list]\n",
    "df = df[df[\"History\"] == 1]\n",
    "df"
   ]
  },
  {
   "cell_type": "code",
   "execution_count": 57,
   "metadata": {},
   "outputs": [
    {
     "data": {
      "text/plain": [
       "Index(['History', 'billing_period', 'cumulative_import', 'cumulative_export',\n",
       "       'apparent_import', 'reactive_import', 'reactive_export', 'month',\n",
       "       'year'],\n",
       "      dtype='object', name=0)"
      ]
     },
     "execution_count": 57,
     "metadata": {},
     "output_type": "execute_result"
    }
   ],
   "source": [
    "df.columns"
   ]
  },
  {
   "cell_type": "code",
   "execution_count": 58,
   "metadata": {},
   "outputs": [
    {
     "data": {
      "text/html": [
       "<div>\n",
       "<style scoped>\n",
       "    .dataframe tbody tr th:only-of-type {\n",
       "        vertical-align: middle;\n",
       "    }\n",
       "\n",
       "    .dataframe tbody tr th {\n",
       "        vertical-align: top;\n",
       "    }\n",
       "\n",
       "    .dataframe thead th {\n",
       "        text-align: right;\n",
       "    }\n",
       "</style>\n",
       "<table border=\"1\" class=\"dataframe\">\n",
       "  <thead>\n",
       "    <tr style=\"text-align: right;\">\n",
       "      <th></th>\n",
       "      <th>History</th>\n",
       "      <th>Billing Date</th>\n",
       "      <th>TOD/SLAB</th>\n",
       "      <th>Active(I) Total</th>\n",
       "      <th>Active(E) Total</th>\n",
       "    </tr>\n",
       "  </thead>\n",
       "  <tbody>\n",
       "    <tr>\n",
       "      <th>0</th>\n",
       "      <td>0</td>\n",
       "      <td>----</td>\n",
       "      <td>1</td>\n",
       "      <td>96256715.1213</td>\n",
       "      <td>25016.595</td>\n",
       "    </tr>\n",
       "    <tr>\n",
       "      <th>1</th>\n",
       "      <td>0</td>\n",
       "      <td>----</td>\n",
       "      <td>2</td>\n",
       "      <td>58640935.1716</td>\n",
       "      <td>1532.7879</td>\n",
       "    </tr>\n",
       "    <tr>\n",
       "      <th>2</th>\n",
       "      <td>0</td>\n",
       "      <td>----</td>\n",
       "      <td>3</td>\n",
       "      <td>25970470.2811</td>\n",
       "      <td>18548.5367</td>\n",
       "    </tr>\n",
       "  </tbody>\n",
       "</table>\n",
       "</div>"
      ],
      "text/plain": [
       "0 History Billing Date TOD/SLAB Active(I) Total Active(E) Total\n",
       "0       0         ----        1   96256715.1213       25016.595\n",
       "1       0         ----        2   58640935.1716       1532.7879\n",
       "2       0         ----        3   25970470.2811      18548.5367"
      ]
     },
     "execution_count": 58,
     "metadata": {},
     "output_type": "execute_result"
    }
   ],
   "source": [
    "df2 = pd.read_excel(files[1])\n",
    "df2 = df2.drop(index=[0, 1]).reset_index(drop=True) #drop the first two rows\n",
    "\n",
    "# assign values of the third row as column names\n",
    "df2.columns = df2.iloc[0]\n",
    "df2 = df2.drop(0).reset_index(drop=True)\n",
    "df2_columns = ['History', 'Billing Date', 'TOD/SLAB', 'Active(I) Total','Active(E) Total']\n",
    "df2 = df2[df2_columns]\n",
    "df2.head(3)"
   ]
  },
  {
   "cell_type": "code",
   "execution_count": 59,
   "metadata": {},
   "outputs": [
    {
     "data": {
      "text/html": [
       "<div>\n",
       "<style scoped>\n",
       "    .dataframe tbody tr th:only-of-type {\n",
       "        vertical-align: middle;\n",
       "    }\n",
       "\n",
       "    .dataframe tbody tr th {\n",
       "        vertical-align: top;\n",
       "    }\n",
       "\n",
       "    .dataframe thead th {\n",
       "        text-align: right;\n",
       "    }\n",
       "</style>\n",
       "<table border=\"1\" class=\"dataframe\">\n",
       "  <thead>\n",
       "    <tr style=\"text-align: right;\">\n",
       "      <th></th>\n",
       "      <th>History</th>\n",
       "      <th>billing_period</th>\n",
       "      <th>tou</th>\n",
       "      <th>import</th>\n",
       "      <th>export</th>\n",
       "    </tr>\n",
       "  </thead>\n",
       "  <tbody>\n",
       "    <tr>\n",
       "      <th>3</th>\n",
       "      <td>1</td>\n",
       "      <td>2025-02-01 00:00:00</td>\n",
       "      <td>1</td>\n",
       "      <td>93887499.2142</td>\n",
       "      <td>24955.1705</td>\n",
       "    </tr>\n",
       "    <tr>\n",
       "      <th>4</th>\n",
       "      <td>1</td>\n",
       "      <td>2025-02-01 00:00:00</td>\n",
       "      <td>2</td>\n",
       "      <td>57194922.7297</td>\n",
       "      <td>1532.7879</td>\n",
       "    </tr>\n",
       "    <tr>\n",
       "      <th>5</th>\n",
       "      <td>1</td>\n",
       "      <td>2025-02-01 00:00:00</td>\n",
       "      <td>3</td>\n",
       "      <td>25204181.6104</td>\n",
       "      <td>18548.5367</td>\n",
       "    </tr>\n",
       "  </tbody>\n",
       "</table>\n",
       "</div>"
      ],
      "text/plain": [
       "0 History       billing_period tou         import      export\n",
       "3       1  2025-02-01 00:00:00   1  93887499.2142  24955.1705\n",
       "4       1  2025-02-01 00:00:00   2  57194922.7297   1532.7879\n",
       "5       1  2025-02-01 00:00:00   3  25204181.6104  18548.5367"
      ]
     },
     "execution_count": 59,
     "metadata": {},
     "output_type": "execute_result"
    }
   ],
   "source": [
    "df2_columns = {'Billing Date':'billing_period', 'TOD/SLAB':'tou', 'Active(I) Total':'import',\n",
    "               'Active(E) Total':'export'}\n",
    "df2 = df2.rename(columns=df2_columns)\n",
    "df = df[df[\"History\"] != 0] #drop the current values. also, we cannot parse its date(empty)\n",
    "df['billing_period'] = pd.to_datetime(df['billing_period']).dt.normalize()\n",
    "df['month'] = pd.to_datetime(df['billing_period']).dt.month_name()\n",
    "df['year'] = pd.to_datetime(df['billing_period']).dt.year\n",
    "df2 = df2[df2[\"History\"] == 1]\n",
    "df2.head()"
   ]
  },
  {
   "cell_type": "code",
   "execution_count": 60,
   "metadata": {},
   "outputs": [
    {
     "data": {
      "text/html": [
       "<div>\n",
       "<style scoped>\n",
       "    .dataframe tbody tr th:only-of-type {\n",
       "        vertical-align: middle;\n",
       "    }\n",
       "\n",
       "    .dataframe tbody tr th {\n",
       "        vertical-align: top;\n",
       "    }\n",
       "\n",
       "    .dataframe thead th {\n",
       "        text-align: right;\n",
       "    }\n",
       "</style>\n",
       "<table border=\"1\" class=\"dataframe\">\n",
       "  <thead>\n",
       "    <tr style=\"text-align: right;\">\n",
       "      <th></th>\n",
       "      <th>History</th>\n",
       "      <th>billing_period</th>\n",
       "      <th>cumulative_import</th>\n",
       "      <th>cumulative_export</th>\n",
       "      <th>apparent_import</th>\n",
       "      <th>reactive_import</th>\n",
       "      <th>reactive_export</th>\n",
       "      <th>month</th>\n",
       "      <th>year</th>\n",
       "      <th>rate1</th>\n",
       "      <th>rate2</th>\n",
       "      <th>rate3</th>\n",
       "      <th>rate4</th>\n",
       "      <th>rate5</th>\n",
       "      <th>rate6</th>\n",
       "    </tr>\n",
       "  </thead>\n",
       "  <tbody>\n",
       "    <tr>\n",
       "      <th>1</th>\n",
       "      <td>1</td>\n",
       "      <td>2025-02-01</td>\n",
       "      <td>176406172.578899</td>\n",
       "      <td>45036.513</td>\n",
       "      <td>187551818.269299</td>\n",
       "      <td>51925429.9622</td>\n",
       "      <td>899196.0148</td>\n",
       "      <td>February</td>\n",
       "      <td>2025</td>\n",
       "      <td>9.388750e+07</td>\n",
       "      <td>5.719492e+07</td>\n",
       "      <td>2.520418e+07</td>\n",
       "      <td>24955.1705</td>\n",
       "      <td>1532.7879</td>\n",
       "      <td>18548.5367</td>\n",
       "    </tr>\n",
       "  </tbody>\n",
       "</table>\n",
       "</div>"
      ],
      "text/plain": [
       "0 History billing_period cumulative_import cumulative_export  \\\n",
       "1       1     2025-02-01  176406172.578899         45036.513   \n",
       "\n",
       "0   apparent_import reactive_import reactive_export     month  year  \\\n",
       "1  187551818.269299   51925429.9622     899196.0148  February  2025   \n",
       "\n",
       "0         rate1         rate2         rate3       rate4      rate5       rate6  \n",
       "1  9.388750e+07  5.719492e+07  2.520418e+07  24955.1705  1532.7879  18548.5367  "
      ]
     },
     "execution_count": 60,
     "metadata": {},
     "output_type": "execute_result"
    }
   ],
   "source": [
    "# getting rates and and assiging them to df\n",
    "df['rate1'] = df2[(df2['tou'] == 1) & (df2['History'] == 1)]['import'].values[0]\n",
    "df['rate2'] = df2[(df2['tou'] == 2) & (df2['History'] == 1)]['import'].values[0]\n",
    "df['rate3'] = df2[(df2['tou'] == 3) & (df2['History'] == 1)]['import'].values[0]\n",
    "\n",
    "df['rate4'] = df2[(df2['tou'] == 1) & (df2['History'] == 1)]['export'].values[0]\n",
    "df['rate5'] = df2[(df2['tou'] == 2) & (df2['History'] == 1)]['export'].values[0]\n",
    "df['rate6'] = df2[(df2['tou'] == 3) & (df2['History'] == 1)]['export'].values[0]\n",
    "df"
   ]
  },
  {
   "cell_type": "code",
   "execution_count": 61,
   "metadata": {},
   "outputs": [],
   "source": [
    "df['serial_no'] = serial_no \n",
    "df['reading_date'] = datetime.now().replace(second=0, microsecond=0)\n",
    "df['vt_ratio'] = pd.NA  \n",
    "df['ct_ratio'] = pd.NA  \n",
    "df['no_of_resets'] = pd.NA  \n",
    "df['date_of_last_reset'] = pd.NA  \n",
    "df['programing_count'] = pd.NA \n",
    "df['vt_ratio'] = pd.NA  \n",
    "df['ct_ratio'] = pd.NA  \n",
    "df['no_of_resets'] = pd.NA  \n",
    "df['date_of_last_reset'] = pd.NA  \n",
    "df['programing_count'] = pd.NA \n",
    " "
   ]
  },
  {
   "cell_type": "code",
   "execution_count": 62,
   "metadata": {},
   "outputs": [
    {
     "data": {
      "text/html": [
       "<div>\n",
       "<style scoped>\n",
       "    .dataframe tbody tr th:only-of-type {\n",
       "        vertical-align: middle;\n",
       "    }\n",
       "\n",
       "    .dataframe tbody tr th {\n",
       "        vertical-align: top;\n",
       "    }\n",
       "\n",
       "    .dataframe thead th {\n",
       "        text-align: right;\n",
       "    }\n",
       "</style>\n",
       "<table border=\"1\" class=\"dataframe\">\n",
       "  <thead>\n",
       "    <tr style=\"text-align: right;\">\n",
       "      <th></th>\n",
       "      <th>History</th>\n",
       "      <th>billing_period</th>\n",
       "      <th>cumulative_import</th>\n",
       "      <th>cumulative_export</th>\n",
       "      <th>apparent_import</th>\n",
       "      <th>reactive_import</th>\n",
       "      <th>reactive_export</th>\n",
       "      <th>month</th>\n",
       "      <th>year</th>\n",
       "      <th>rate1</th>\n",
       "      <th>...</th>\n",
       "      <th>ct_ratio</th>\n",
       "      <th>no_of_resets</th>\n",
       "      <th>date_of_last_reset</th>\n",
       "      <th>programing_count</th>\n",
       "      <th>max_dem1</th>\n",
       "      <th>max_dem1_datetime</th>\n",
       "      <th>max_dem2</th>\n",
       "      <th>max_dem2_datetime</th>\n",
       "      <th>max_dem3</th>\n",
       "      <th>max_dem3_datetime</th>\n",
       "    </tr>\n",
       "  </thead>\n",
       "  <tbody>\n",
       "    <tr>\n",
       "      <th>1</th>\n",
       "      <td>1</td>\n",
       "      <td>2025-02-01</td>\n",
       "      <td>176406172.578899</td>\n",
       "      <td>45036.513</td>\n",
       "      <td>187551818.269299</td>\n",
       "      <td>51925429.9622</td>\n",
       "      <td>899196.0148</td>\n",
       "      <td>February</td>\n",
       "      <td>2025</td>\n",
       "      <td>9.388750e+07</td>\n",
       "      <td>...</td>\n",
       "      <td>&lt;NA&gt;</td>\n",
       "      <td>&lt;NA&gt;</td>\n",
       "      <td>&lt;NA&gt;</td>\n",
       "      <td>&lt;NA&gt;</td>\n",
       "      <td>&lt;NA&gt;</td>\n",
       "      <td>&lt;NA&gt;</td>\n",
       "      <td>&lt;NA&gt;</td>\n",
       "      <td>&lt;NA&gt;</td>\n",
       "      <td>&lt;NA&gt;</td>\n",
       "      <td>&lt;NA&gt;</td>\n",
       "    </tr>\n",
       "  </tbody>\n",
       "</table>\n",
       "<p>1 rows × 28 columns</p>\n",
       "</div>"
      ],
      "text/plain": [
       "0 History billing_period cumulative_import cumulative_export  \\\n",
       "1       1     2025-02-01  176406172.578899         45036.513   \n",
       "\n",
       "0   apparent_import reactive_import reactive_export     month  year  \\\n",
       "1  187551818.269299   51925429.9622     899196.0148  February  2025   \n",
       "\n",
       "0         rate1  ...  ct_ratio  no_of_resets  date_of_last_reset  \\\n",
       "1  9.388750e+07  ...      <NA>          <NA>                <NA>   \n",
       "\n",
       "0  programing_count  max_dem1 max_dem1_datetime max_dem2 max_dem2_datetime  \\\n",
       "1              <NA>      <NA>              <NA>     <NA>              <NA>   \n",
       "\n",
       "0 max_dem3 max_dem3_datetime  \n",
       "1     <NA>              <NA>  \n",
       "\n",
       "[1 rows x 28 columns]"
      ]
     },
     "execution_count": 62,
     "metadata": {},
     "output_type": "execute_result"
    }
   ],
   "source": [
    "columns_to_assign_na = ['vt_ratio', 'ct_ratio', 'no_of_resets', 'date_of_last_reset', 'programing_count',\n",
    "                        'max_dem1','max_dem1_datetime','max_dem2','max_dem2_datetime','max_dem3','max_dem3_datetime']\n",
    "\n",
    "for column in columns_to_assign_na:\n",
    "    df[column] = pd.NA\n",
    "\n",
    "df"
   ]
  }
 ],
 "metadata": {
  "kernelspec": {
   "display_name": "venv",
   "language": "python",
   "name": "python3"
  },
  "language_info": {
   "codemirror_mode": {
    "name": "ipython",
    "version": 3
   },
   "file_extension": ".py",
   "mimetype": "text/x-python",
   "name": "python",
   "nbconvert_exporter": "python",
   "pygments_lexer": "ipython3",
   "version": "3.13.1"
  }
 },
 "nbformat": 4,
 "nbformat_minor": 2
}
