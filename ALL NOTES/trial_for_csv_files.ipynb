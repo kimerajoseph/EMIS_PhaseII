{
 "cells": [
  {
   "cell_type": "code",
   "execution_count": 177,
   "metadata": {},
   "outputs": [],
   "source": [
    "import pandas as pd\n",
    "import numpy as np\n",
    "import openpyxl\n",
    "from datetime import datetime"
   ]
  },
  {
   "cell_type": "code",
   "execution_count": 2,
   "metadata": {},
   "outputs": [
    {
     "data": {
      "text/plain": [
       "'67563259'"
      ]
     },
     "execution_count": 2,
     "metadata": {},
     "output_type": "execute_result"
    }
   ],
   "source": [
    "filename = \"LGZ67563259-ReadStoredValues_BillingDataProfile.xlsx\"\n",
    "serial_no = filename[3:].split(\"-\")[0].strip()\n",
    "serial_no"
   ]
  },
  {
   "cell_type": "code",
   "execution_count": 179,
   "metadata": {},
   "outputs": [],
   "source": [
    "# Read the Excel file\n",
    "df = pd.read_excel(filename)\n",
    "df = df.drop(index=0).reset_index(drop=True)"
   ]
  },
  {
   "cell_type": "code",
   "execution_count": 180,
   "metadata": {},
   "outputs": [],
   "source": [
    "#df['0-0:1.0.0'] = pd.to_date(df['0-0:1.0.0'], errors='coerce')\n",
    "df['0-0:1.0.0'] = pd.to_datetime(df['0-0:1.0.0']).dt.normalize()\n",
    "df['month'] = pd.to_datetime(df['0-0:1.0.0']).dt.month_name()\n",
    "df['year'] = pd.to_datetime(df['0-0:1.0.0']).dt.year\n",
    "#df.dtypes"
   ]
  },
  {
   "cell_type": "code",
   "execution_count": 181,
   "metadata": {},
   "outputs": [
    {
     "data": {
      "text/html": [
       "<div>\n",
       "<style scoped>\n",
       "    .dataframe tbody tr th:only-of-type {\n",
       "        vertical-align: middle;\n",
       "    }\n",
       "\n",
       "    .dataframe tbody tr th {\n",
       "        vertical-align: top;\n",
       "    }\n",
       "\n",
       "    .dataframe thead th {\n",
       "        text-align: right;\n",
       "    }\n",
       "</style>\n",
       "<table border=\"1\" class=\"dataframe\">\n",
       "  <thead>\n",
       "    <tr style=\"text-align: right;\">\n",
       "      <th></th>\n",
       "      <th>month</th>\n",
       "      <th>year</th>\n",
       "    </tr>\n",
       "  </thead>\n",
       "  <tbody>\n",
       "    <tr>\n",
       "      <th>0</th>\n",
       "      <td>February</td>\n",
       "      <td>2025</td>\n",
       "    </tr>\n",
       "    <tr>\n",
       "      <th>1</th>\n",
       "      <td>January</td>\n",
       "      <td>2025</td>\n",
       "    </tr>\n",
       "  </tbody>\n",
       "</table>\n",
       "</div>"
      ],
      "text/plain": [
       "      month  year\n",
       "0  February  2025\n",
       "1   January  2025"
      ]
     },
     "execution_count": 181,
     "metadata": {},
     "output_type": "execute_result"
    }
   ],
   "source": [
    "df[['month','year']].head(2)"
   ]
  },
  {
   "cell_type": "code",
   "execution_count": 182,
   "metadata": {},
   "outputs": [
    {
     "data": {
      "text/plain": [
       "Index(['#', '0-0:1.0.0', '1-0:0.1.0', '1-1:1.9.1 [kWh]', '1-1:1.9.2 [kWh]',\n",
       "       '1-1:1.9.3 [kWh]', '1-1:2.9.1 [kWh]', '1-1:2.9.2 [kWh]',\n",
       "       '1-1:2.9.3 [kWh]', '1-1:2.8.0 [kWh]', '1-1:10.8.0 [kVAh]',\n",
       "       '1-1:4.8.0 [kvarh]', '1-1:1.8.0 [kWh]', '1-1:9.8.0 [kVAh]',\n",
       "       '1-1:3.8.0 [kvarh]', '1-1:9.6.1;2 [MVA]', '1-1:9.6.1;5',\n",
       "       '1-1:9.6.2;2 [MVA]', '1-1:9.6.2;5', '1-1:9.6.3;2 [MVA]', '1-1:9.6.3;5',\n",
       "       '1-1:10.6.1;2 [MVA]', '1-1:10.6.1;5', '1-1:10.6.2;2 [MVA]',\n",
       "       '1-1:10.6.2;5', '1-1:10.6.3;2 [MVA]', '1-1:10.6.3;5', '1-1:13.0.0',\n",
       "       'month', 'year'],\n",
       "      dtype='object')"
      ]
     },
     "execution_count": 182,
     "metadata": {},
     "output_type": "execute_result"
    }
   ],
   "source": [
    "df.columns"
   ]
  },
  {
   "cell_type": "code",
   "execution_count": 183,
   "metadata": {},
   "outputs": [],
   "source": [
    "# columns_names = ['0-0:1.0.0', '1-0:0.1.0', '1-1:1.9.1 [kWh]', '1-1:1.9.2 [kWh]',\n",
    "#        '1-1:1.9.3 [kWh]', '1-1:2.9.1 [kWh]', '1-1:2.9.2 [kWh]',\n",
    "#        '1-1:2.9.3 [kWh]', '1-1:2.8.0 [kWh]', '1-1:10.8.0 [kVAh]',\n",
    "#        '1-1:4.8.0 [kvarh]', '1-1:1.8.0 [kWh]', '1-1:9.8.0 [kVAh]',\n",
    "#        '1-1:3.8.0 [kvarh]', '1-1:9.6.1;2 [MVA]', '1-1:9.6.1;5',\n",
    "#        '1-1:9.6.2;2 [MVA]', '1-1:9.6.2;5', '1-1:9.6.3;2 [MVA]', '1-1:9.6.3;5',\n",
    "#        '1-1:10.6.1;2 [MVA]', '1-1:10.6.1;5', '1-1:10.6.2;2 [MVA]',\n",
    "#        '1-1:10.6.2;5', '1-1:10.6.3;2 [MVA]', '1-1:10.6.3;5', '1-1:13.0.0',\n",
    "#        'month', 'year']"
   ]
  },
  {
   "cell_type": "code",
   "execution_count": 184,
   "metadata": {},
   "outputs": [
    {
     "data": {
      "text/plain": [
       "Index(['0-0:1.0.0', '1-0:0.1.0', '1.9.1', '1.9.2', '1.9.3', '2.9.1', '2.9.2',\n",
       "       '2.9.3', '2.8.0', '10.8.0', '4.8.0', '1.8.0', '9.8.0', '3.8.0', '9.6.1',\n",
       "       '9.6.1_MDT', '9.6.2', '9.6.2_MDT', '9.6.3', '9.6.3_MDT', '10.6.1',\n",
       "       '1-1:10.6.1;5', '10.6.2', '1-1:10.6.2;5', '10.6.3', '1-1:10.6.3;5',\n",
       "       '1-1:13.0.0', 'month', 'year'],\n",
       "      dtype='object')"
      ]
     },
     "execution_count": 184,
     "metadata": {},
     "output_type": "execute_result"
    }
   ],
   "source": [
    "df = df.drop(df.columns[0], axis=1)\n",
    "units = ['kWh', 'kVAh','kvarh','MVA']\n",
    "max_dem_time = ['9.6.1;','9.6.2;','9.6.3;']\n",
    "#print(df.columns)\n",
    "for column in df.columns.to_list()[1:]:\n",
    "    if any(substring in column for substring in units):\n",
    "        new_column_name = column.split(\":\", 1)[1].split(' ')[0].split(';')[0]\n",
    "        #print(column)\n",
    "        df = df.rename(columns={column: new_column_name})\n",
    "\n",
    "    elif any(substring in column for substring in max_dem_time):\n",
    "        new_column_name = f\"{column.split(\":\", 1)[1].split(';')[0]}_MDT\"\n",
    "        #print(column)\n",
    "        df = df.rename(columns={column: new_column_name})\n",
    "    \n",
    "\n",
    "df.columns"
   ]
  },
  {
   "cell_type": "code",
   "execution_count": 185,
   "metadata": {},
   "outputs": [],
   "source": [
    "df['9.6.3_MDT'] = df['9.6.3_MDT'].str.split('(', n=1).str[0]\n",
    "df['9.6.2_MDT'] = df['9.6.2_MDT'].str.split('(', n=1).str[0]\n",
    "df['9.6.1_MDT'] = df['9.6.1_MDT'].str.split('(', n=1).str[0]"
   ]
  },
  {
   "cell_type": "code",
   "execution_count": 186,
   "metadata": {},
   "outputs": [],
   "source": [
    "df['9.6.3_MDT'] = pd.to_datetime(df['9.6.3_MDT'])\n",
    "df['9.6.2_MDT'] = pd.to_datetime(df['9.6.2_MDT'])\n",
    "df['9.6.1_MDT'] = pd.to_datetime(df['9.6.1_MDT'])"
   ]
  },
  {
   "cell_type": "code",
   "execution_count": 187,
   "metadata": {},
   "outputs": [
    {
     "data": {
      "text/html": [
       "<div>\n",
       "<style scoped>\n",
       "    .dataframe tbody tr th:only-of-type {\n",
       "        vertical-align: middle;\n",
       "    }\n",
       "\n",
       "    .dataframe tbody tr th {\n",
       "        vertical-align: top;\n",
       "    }\n",
       "\n",
       "    .dataframe thead th {\n",
       "        text-align: right;\n",
       "    }\n",
       "</style>\n",
       "<table border=\"1\" class=\"dataframe\">\n",
       "  <thead>\n",
       "    <tr style=\"text-align: right;\">\n",
       "      <th></th>\n",
       "      <th>rate1</th>\n",
       "      <th>rate2</th>\n",
       "      <th>rate3</th>\n",
       "      <th>rate4</th>\n",
       "      <th>rate5</th>\n",
       "      <th>rate6</th>\n",
       "      <th>cumulative_export</th>\n",
       "      <th>apparent_export</th>\n",
       "      <th>reactive_export</th>\n",
       "      <th>cumulative_import</th>\n",
       "      <th>apparent_import</th>\n",
       "      <th>reactive_import</th>\n",
       "      <th>max_dem1</th>\n",
       "      <th>max_dem1_datetime</th>\n",
       "      <th>max_dem2</th>\n",
       "      <th>max_dem2_datetime</th>\n",
       "      <th>max_dem3</th>\n",
       "      <th>max_dem3_datetime</th>\n",
       "    </tr>\n",
       "  </thead>\n",
       "  <tbody>\n",
       "    <tr>\n",
       "      <th>0</th>\n",
       "      <td>8747700.0</td>\n",
       "      <td>5406100.0</td>\n",
       "      <td>3628100.0</td>\n",
       "      <td>0.0</td>\n",
       "      <td>0.0</td>\n",
       "      <td>0.0</td>\n",
       "      <td>21.5</td>\n",
       "      <td>909.87</td>\n",
       "      <td>2011105.70</td>\n",
       "      <td>1.272814e+08</td>\n",
       "      <td>1.329063e+08</td>\n",
       "      <td>33087876.14</td>\n",
       "      <td>38.83</td>\n",
       "      <td>2025-01-05 15:30:00</td>\n",
       "      <td>38.94</td>\n",
       "      <td>2025-01-11 21:00:00</td>\n",
       "      <td>37.79</td>\n",
       "      <td>2025-01-14 01:00:00</td>\n",
       "    </tr>\n",
       "    <tr>\n",
       "      <th>1</th>\n",
       "      <td>8194100.0</td>\n",
       "      <td>5388900.0</td>\n",
       "      <td>3318400.0</td>\n",
       "      <td>0.0</td>\n",
       "      <td>0.0</td>\n",
       "      <td>0.0</td>\n",
       "      <td>21.5</td>\n",
       "      <td>909.87</td>\n",
       "      <td>2010942.58</td>\n",
       "      <td>1.089328e+08</td>\n",
       "      <td>1.136917e+08</td>\n",
       "      <td>27654275.31</td>\n",
       "      <td>38.52</td>\n",
       "      <td>2024-12-11 13:30:00</td>\n",
       "      <td>39.94</td>\n",
       "      <td>2024-12-06 20:00:00</td>\n",
       "      <td>29.14</td>\n",
       "      <td>2024-12-17 00:30:00</td>\n",
       "    </tr>\n",
       "    <tr>\n",
       "      <th>2</th>\n",
       "      <td>6801300.0</td>\n",
       "      <td>4534000.0</td>\n",
       "      <td>2760000.0</td>\n",
       "      <td>0.0</td>\n",
       "      <td>0.0</td>\n",
       "      <td>0.0</td>\n",
       "      <td>21.5</td>\n",
       "      <td>909.87</td>\n",
       "      <td>2010015.38</td>\n",
       "      <td>9.104120e+07</td>\n",
       "      <td>9.489531e+07</td>\n",
       "      <td>22085009.27</td>\n",
       "      <td>35.98</td>\n",
       "      <td>2024-11-25 16:30:00</td>\n",
       "      <td>37.60</td>\n",
       "      <td>2024-11-25 20:00:00</td>\n",
       "      <td>25.62</td>\n",
       "      <td>2024-11-30 00:30:00</td>\n",
       "    </tr>\n",
       "  </tbody>\n",
       "</table>\n",
       "</div>"
      ],
      "text/plain": [
       "       rate1      rate2      rate3  rate4  rate5  rate6  cumulative_export  \\\n",
       "0  8747700.0  5406100.0  3628100.0    0.0    0.0    0.0               21.5   \n",
       "1  8194100.0  5388900.0  3318400.0    0.0    0.0    0.0               21.5   \n",
       "2  6801300.0  4534000.0  2760000.0    0.0    0.0    0.0               21.5   \n",
       "\n",
       "   apparent_export  reactive_export  cumulative_import  apparent_import  \\\n",
       "0           909.87       2011105.70       1.272814e+08     1.329063e+08   \n",
       "1           909.87       2010942.58       1.089328e+08     1.136917e+08   \n",
       "2           909.87       2010015.38       9.104120e+07     9.489531e+07   \n",
       "\n",
       "   reactive_import  max_dem1   max_dem1_datetime  max_dem2  \\\n",
       "0      33087876.14     38.83 2025-01-05 15:30:00     38.94   \n",
       "1      27654275.31     38.52 2024-12-11 13:30:00     39.94   \n",
       "2      22085009.27     35.98 2024-11-25 16:30:00     37.60   \n",
       "\n",
       "    max_dem2_datetime  max_dem3   max_dem3_datetime  \n",
       "0 2025-01-11 21:00:00     37.79 2025-01-14 01:00:00  \n",
       "1 2024-12-06 20:00:00     29.14 2024-12-17 00:30:00  \n",
       "2 2024-11-25 20:00:00     25.62 2024-11-30 00:30:00  "
      ]
     },
     "execution_count": 187,
     "metadata": {},
     "output_type": "execute_result"
    }
   ],
   "source": [
    "new_df_columns = {'1.9.1':'rate1', '1.9.2':'rate2', '1.9.3':'rate3', '2.9.1':'rate4', '2.9.2':'rate5',\n",
    "       '2.9.3':'rate6', '2.8.0':'cumulative_export', '10.8.0':'apparent_export', \n",
    "       '4.8.0':'reactive_export', '1.8.0':'cumulative_import', '9.8.0':'apparent_import', \n",
    "       '3.8.0':'reactive_import', '9.6.1':'max_dem1','9.6.1_MDT':'max_dem1_datetime',\n",
    "         '9.6.2':'max_dem2', '9.6.2_MDT':'max_dem2_datetime', '9.6.3':'max_dem3', \n",
    "         '9.6.3_MDT':'max_dem3_datetime'}\n",
    "df = df.rename(columns=new_df_columns)\n",
    "df = df.rename(columns={'0-0:1.0.0':'billing_period'})\n",
    "new_df_columns = ['rate1','rate2','rate3','rate4','rate5','rate6','cumulative_export','apparent_export', \n",
    "                  'reactive_export','cumulative_import','apparent_import','reactive_import', \n",
    "                'max_dem1','max_dem1_datetime','max_dem2','max_dem2_datetime','max_dem3','max_dem3_datetime']\n",
    "df = df[new_df_columns]\n",
    "df.head(3)"
   ]
  },
  {
   "cell_type": "code",
   "execution_count": 188,
   "metadata": {},
   "outputs": [],
   "source": [
    "df['serial_no'] = serial_no \n",
    "df['reading_date'] = datetime.now().replace(second=0, microsecond=0)\n",
    "df['vt_ratio'] = pd.NA  \n",
    "df['ct_ratio'] = pd.NA  \n",
    "df['no_of_resets'] = pd.NA  \n",
    "df['date_of_last_reset'] = pd.NA  \n",
    "df['programing_count'] = pd.NA  "
   ]
  },
  {
   "cell_type": "code",
   "execution_count": null,
   "metadata": {},
   "outputs": [],
   "source": []
  }
 ],
 "metadata": {
  "kernelspec": {
   "display_name": "venv",
   "language": "python",
   "name": "python3"
  },
  "language_info": {
   "codemirror_mode": {
    "name": "ipython",
    "version": 3
   },
   "file_extension": ".py",
   "mimetype": "text/x-python",
   "name": "python",
   "nbconvert_exporter": "python",
   "pygments_lexer": "ipython3",
   "version": "3.13.1"
  }
 },
 "nbformat": 4,
 "nbformat_minor": 2
}
