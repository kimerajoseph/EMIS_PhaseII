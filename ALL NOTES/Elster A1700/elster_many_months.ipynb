{
 "cells": [
  {
   "cell_type": "code",
   "execution_count": 216,
   "metadata": {},
   "outputs": [],
   "source": [
    "import pandas as pd\n",
    "import numpy as np\n",
    "import openpyxl\n",
    "from datetime import datetime\n",
    "from dateutil.relativedelta import relativedelta\n",
    "import gc"
   ]
  },
  {
   "cell_type": "code",
   "execution_count": 217,
   "metadata": {},
   "outputs": [],
   "source": [
    "file_path = \"HIST2.csv\""
   ]
  },
  {
   "cell_type": "code",
   "execution_count": 218,
   "metadata": {},
   "outputs": [
    {
     "name": "stdout",
     "output_type": "stream",
     "text": [
      "[24, 148, 272, 396, 520, 644, 768, 892, 1016, 1140, 1264, 1388]\n"
     ]
    }
   ],
   "source": [
    "import csv\n",
    "\n",
    "data_rows = []\n",
    "# Open and read the CSV file\n",
    "with open(file_path, newline='', encoding='utf-8') as file:\n",
    "    reader = csv.reader(file)\n",
    "    \n",
    "    # Loop through each row and check if any cell contains '----'\n",
    "    # for row in reader:\n",
    "    #     if any('----' in cell for cell in row):\n",
    "    #         print(row)  # Print the row containing the pattern\n",
    "\n",
    "    i = 0\n",
    "    for row in reader:\n",
    "        i+= 1\n",
    "        if \"Historical Data Set\" in row[1]:\n",
    "            data_rows.append(i)\n",
    "            # print(row)\n",
    "            # print(i)\n",
    "            #break\n",
    "        \n",
    "    print(data_rows)"
   ]
  },
  {
   "cell_type": "code",
   "execution_count": 219,
   "metadata": {},
   "outputs": [
    {
     "name": "stdout",
     "output_type": "stream",
     "text": [
      "All differences are the same\n"
     ]
    }
   ],
   "source": [
    "differences = [data_rows[i+1] - data_rows[i] for i in range(len(data_rows)-1)]\n",
    "if len(set(differences)) == 1:\n",
    "    print(\"All differences are the same\")\n"
   ]
  },
  {
   "cell_type": "code",
   "execution_count": 220,
   "metadata": {},
   "outputs": [
    {
     "data": {
      "text/plain": [
       "{124}"
      ]
     },
     "execution_count": 220,
     "metadata": {},
     "output_type": "execute_result"
    }
   ],
   "source": [
    "set(differences)"
   ]
  },
  {
   "cell_type": "code",
   "execution_count": 221,
   "metadata": {},
   "outputs": [
    {
     "name": "stderr",
     "output_type": "stream",
     "text": [
      "C:\\Users\\HP\\AppData\\Local\\Temp\\ipykernel_1520\\2708137643.py:98: FutureWarning: The behavior of DataFrame concatenation with empty or all-NA entries is deprecated. In a future version, this will no longer exclude empty or all-NA columns when determining the result dtypes. To retain the old behavior, exclude the relevant entries before the concat operation.\n",
      "  new_df = pd.concat([new_df, row1], ignore_index = True)\n"
     ]
    }
   ],
   "source": [
    "# Read the CSV file, skipping the first 24 rows\n",
    "df = pd.read_csv(file_path, skiprows=range(data_rows[0]-1))\n",
    "\n",
    "new_df = pd.DataFrame(columns=['billing_period','cumulative_import', 'cumulative_export','apparent_import', 'reactive_import',\n",
    "                               'reactive_export','rate1', 'rate2', 'rate3', 'rate4', 'rate5', \n",
    "        'rate6','max_dem1','max_dem1_datetime','max_dem2','max_dem2_datetime','max_dem3','max_dem3_datetime',\n",
    "        ])\n",
    "\n",
    "# read rows between  24 and 24 + differences[0]\n",
    "for x in data_rows:\n",
    "    df1 = pd.read_csv(file_path, skiprows=range(x-1), nrows=differences[0])\n",
    "    df1 = df1[[df.columns[3],df1.columns[4],df1.columns[5],df1.columns[6]]]\n",
    "    df1 = df1.rename(columns={df1.columns[0]:'column1',df1.columns[1]:'column2',df1.columns[2]:'column3',df1.columns[3]:'column4'})\n",
    "    \n",
    "\n",
    "    first_index_imp = df1[df1['column2'] == 'Import Wh'].index[0] \n",
    "    cumulative_import = float(df1.at[first_index_imp, 'column1'].replace(\",\",\"\"))/1000\n",
    "\n",
    "    first_index_exp = df1[df1['column2'] == 'Import Wh'].index[0] \n",
    "    cumulative_export = float(df1.at[first_index_exp, 'column1'].replace(\",\",\"\"))/1000\n",
    "\n",
    "    apparent_import_index = df1[df1['column2'] == 'Total VAh'].index[0] \n",
    "    apparent_import = float(df1.at[apparent_import_index, 'column1'].replace(\",\",\"\"))/1000\n",
    "\n",
    "    first_Q_react_imp = df1[df1['column2'] == 'Q1 varh'].index[0]\n",
    "    second_Q_react_imp = df1[df1['column2'] == 'Q2 varh'].index[0]\n",
    "    reactive_import = float(df1.at[first_Q_react_imp, 'column1'].replace(\",\",\"\"))/1000 + float(df1.at[second_Q_react_imp, 'column1'].replace(\",\",\"\"))/1000\n",
    "\n",
    "    first_Q_react_exp = df1[df1['column2'] == 'Q3 varh'].index[0]\n",
    "    second_Q_react_exp = df1[df1['column2'] == 'Q4 varh'].index[0]\n",
    "    reactive_export = float(df1.at[first_Q_react_exp, 'column1'].replace(\",\",\"\"))/1000 + float(df1.at[second_Q_react_exp, 'column1'].replace(\",\",\"\"))/1000\n",
    "\n",
    "    rate1 = float(df1.loc[df1['column1'] == 'Rate 1', 'column2'].iloc[0].replace(\",\",\"\"))/1000\n",
    "    rate2 = float(df1.loc[df1['column1'] == 'Rate 2', 'column2'].iloc[0].replace(\",\",\"\"))/1000\n",
    "    rate3 = float(df1.loc[df1['column1'] == 'Rate 3', 'column2'].iloc[0].replace(\",\",\"\"))/1000\n",
    "\n",
    "    rate4 = float(df1.loc[df1['column1'] == 'Rate 4', 'column2'].iloc[0].replace(\",\",\"\"))/1000\n",
    "    rate5 = float(df1.loc[df1['column1'] == 'Rate 5', 'column2'].iloc[0].replace(\",\",\"\"))/1000\n",
    "    rate6 = float(df1.loc[df1['column1'] == 'Rate 6', 'column2'].iloc[0].replace(\",\",\"\"))/1000\n",
    "    \n",
    "    ## MAXIMUM DEMANDS\n",
    "    max_dem1 = df1.loc[df1['column1'] == 'MD 1a', 'column2'].iloc[0].replace(\",\",\"\")\n",
    "    max_dem1_time = df1.loc[df1['column1'] == 'MD 1a', 'column4'].iloc[0]\n",
    "\n",
    "    ## MAXIMUM DEMANDS\n",
    "    max_dem2 = df1.loc[df1['column1'] == 'MD 2a', 'column2'].iloc[0].replace(\",\",\"\")\n",
    "    max_dem2_time = df1.loc[df1['column1'] == 'MD 2a', 'column4'].iloc[0]\n",
    "\n",
    "    max_dem3 = df1.loc[df1['column1'] == 'MD 3a', 'column2'].iloc[0].replace(\",\",\"\")\n",
    "    max_dem3_time = df1.loc[df1['column1'] == 'MD 3a', 'column4'].iloc[0]\n",
    "\n",
    "    #COUNT\n",
    "    billing_count = df1.loc[df1['column1'] == 'Count', 'column2'].iloc[0]\n",
    "\n",
    "    #BILLING PERIOD\n",
    "    billing_end = df1.loc[df1['column1'] == 'Period End', 'column2'].iloc[0]\n",
    "\n",
    "    dt1 = datetime.strptime(max_dem1_time, \"%A, %B %d, %Y %I:%M:%S %p\")\n",
    "    max_dem1_time = dt1.strftime(\"%Y-%m-%d %H:%M\")\n",
    "\n",
    "    dt2 = datetime.strptime(max_dem2_time, \"%A, %B %d, %Y %I:%M:%S %p\")\n",
    "    max_dem2_time = dt2.strftime(\"%Y-%m-%d %H:%M\")\n",
    "\n",
    "    dt3 = datetime.strptime(max_dem3_time, \"%A, %B %d, %Y %I:%M:%S %p\")\n",
    "    max_dem3_time = dt3.strftime(\"%Y-%m-%d %H:%M\")\n",
    "\n",
    "    dt = datetime.strptime(billing_end, \"%A, %B %d, %Y %I:%M %p\")\n",
    "\n",
    "    if dt.day == 1:\n",
    "        billing_period = dt - relativedelta(months=1)\n",
    "        billing_period = billing_period.strftime(\"%Y-%m-%d\")\n",
    "\n",
    "    else:\n",
    "        billing_period = dt.strftime(\"%Y-%m-%d\")\n",
    "\n",
    "    row1 = pd.DataFrame({\n",
    "        'billing_period': [billing_period],\n",
    "        'cumulative_import': [cumulative_import],\n",
    "        'cumulative_export': [cumulative_export],\n",
    "        'apparent_import':[apparent_import],\n",
    "        'reactive_import':[reactive_import],\n",
    "        'reactive_export':[reactive_export],\n",
    "        'rate1': [rate1],\n",
    "        'rate2': [rate2],\n",
    "        'rate3': [rate3],\n",
    "        'rate4': [rate4],\n",
    "        'rate5': [rate5],\n",
    "        'rate6': [rate6],\n",
    "        'no_of_resets':[billing_count],\n",
    "        'max_dem1':[max_dem1],\n",
    "        'max_dem1_datetime':[max_dem1_time],\n",
    "        'max_dem2':[max_dem2],\n",
    "        'max_dem2_datetime':[max_dem2_time],\n",
    "        'max_dem3':[max_dem3],\n",
    "        'max_dem3_datetime':[max_dem3_time]\n",
    "    })\n",
    "\n",
    "    new_df = pd.concat([new_df, row1], ignore_index = True)\n",
    "\n",
    "    columns_to_assign_na = ['vt_ratio', 'ct_ratio', 'date_of_last_reset', 'programing_count']\n",
    "\n",
    "    for column in columns_to_assign_na:\n",
    "        new_df[column] = pd.NA\n"
   ]
  },
  {
   "cell_type": "code",
   "execution_count": null,
   "metadata": {},
   "outputs": [],
   "source": [
    "new_df\n",
    "# save to excel\n",
    "#new_df.to_excel(\"new_df.xlsx\", index=False)"
   ]
  },
  {
   "cell_type": "code",
   "execution_count": 226,
   "metadata": {},
   "outputs": [],
   "source": [
    "# filtered_df = filtered_df[['cumulative_import', 'cumulative_export', 'rate1', 'rate2', 'rate3','rate4','rate5','rate6' ]]\n",
    "# filtered_df = filtered_df.astype(float)\n",
    "# filtered_df = filtered_df.diff().fillna(0)\n",
    "# filtered_df"
   ]
  },
  {
   "cell_type": "code",
   "execution_count": 231,
   "metadata": {},
   "outputs": [
    {
     "name": "stdout",
     "output_type": "stream",
     "text": [
      "True\n"
     ]
    }
   ],
   "source": [
    "from datetime import datetime\n",
    "import calendar\n",
    "\n",
    "# Given datetime string\n",
    "date_string = \"2025-01-17 00:30\"\n",
    "date_obj = datetime.strptime(date_string, \"%Y-%m-%d %H:%M\")\n",
    "\n",
    "# Get the first day of the month (which is just the 1st)\n",
    "start_of_month = date_obj.replace(day=1)\n",
    "\n",
    "# Get the last day of the month\n",
    "end_of_month = datetime(date_obj.year, date_obj.month, calendar.monthrange(date_obj.year, date_obj.month)[1])\n",
    "\n",
    "# Check if the date is within the range\n",
    "is_in_range = start_of_month <= date_obj <= end_of_month\n",
    "\n",
    "print(is_in_range)  # Output: True\n"
   ]
  }
 ],
 "metadata": {
  "kernelspec": {
   "display_name": "venv",
   "language": "python",
   "name": "python3"
  },
  "language_info": {
   "codemirror_mode": {
    "name": "ipython",
    "version": 3
   },
   "file_extension": ".py",
   "mimetype": "text/x-python",
   "name": "python",
   "nbconvert_exporter": "python",
   "pygments_lexer": "ipython3",
   "version": "3.13.1"
  }
 },
 "nbformat": 4,
 "nbformat_minor": 2
}
