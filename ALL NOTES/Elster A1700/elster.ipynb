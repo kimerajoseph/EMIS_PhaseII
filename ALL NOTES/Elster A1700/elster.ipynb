{
 "cells": [
  {
   "cell_type": "code",
   "execution_count": 1,
   "metadata": {},
   "outputs": [],
   "source": [
    "import pandas as pd\n",
    "import numpy as np\n",
    "import openpyxl\n",
    "from datetime import datetime\n",
    "from dateutil.relativedelta import relativedelta\n",
    "import gc"
   ]
  },
  {
   "cell_type": "code",
   "execution_count": 2,
   "metadata": {},
   "outputs": [],
   "source": [
    "file = pd.read_csv('HIST.csv')\n",
    "#file.head()"
   ]
  },
  {
   "cell_type": "code",
   "execution_count": 3,
   "metadata": {},
   "outputs": [
    {
     "name": "stdout",
     "output_type": "stream",
     "text": [
      "['Historical Data', '', '', '', '', '', '', '']\n",
      "23\n"
     ]
    }
   ],
   "source": [
    "import csv\n",
    "\n",
    "# Replace with the actual path to your CSV file\n",
    "file_path = 'HIST.csv'\n",
    "\n",
    "# Open and read the CSV file\n",
    "with open(file_path, newline='', encoding='utf-8') as file:\n",
    "    reader = csv.reader(file)\n",
    "    \n",
    "    # Loop through each row and check if any cell contains '----'\n",
    "    # for row in reader:\n",
    "    #     if any('----' in cell for cell in row):\n",
    "    #         print(row)  # Print the row containing the pattern\n",
    "\n",
    "    i = 0\n",
    "    for row in reader:\n",
    "        i+= 1\n",
    "        if row[0] == 'Historical Data':\n",
    "            print(row)\n",
    "            print(i)\n",
    "            break\n",
    "        \n",
    "        #break\n",
    "\n",
    "\n"
   ]
  },
  {
   "cell_type": "code",
   "execution_count": 125,
   "metadata": {},
   "outputs": [],
   "source": [
    "import pandas as pd\n",
    "\n",
    "# Replace with the actual path to your CSV file\n",
    "file_path = 'HIST12.csv'\n",
    "\n",
    "# Read the CSV file, skipping the first 24 rows\n",
    "df = pd.read_csv(file_path, skiprows=range(23))\n",
    "\n",
    "# Display the resulting DataFrame\n",
    "#df\n"
   ]
  },
  {
   "cell_type": "code",
   "execution_count": null,
   "metadata": {},
   "outputs": [],
   "source": [
    "df = df[[df.columns[3],df.columns[4],df.columns[5],df.columns[6]]]\n",
    "df = df.rename(columns={df.columns[0]:'column1',df.columns[1]:'column2',df.columns[2]:'column3',df.columns[3]:'column4'})"
   ]
  },
  {
   "cell_type": "code",
   "execution_count": 128,
   "metadata": {},
   "outputs": [
    {
     "data": {
      "text/plain": [
       "(2500.01, 218129144520.0)"
      ]
     },
     "execution_count": 128,
     "metadata": {},
     "output_type": "execute_result"
    }
   ],
   "source": [
    "first_index_imp = df[df['column2'] == 'Import Wh'].index[0] \n",
    "cumulative_import = df.at[first_index_imp, 'column1'].replace(\",\",\"\")\n",
    "\n",
    "first_index_exp = df[df['column2'] == 'Import Wh'].index[0] \n",
    "cumulative_export = df.at[first_index_exp, 'column1'].replace(\",\",\"\")\n",
    "\n",
    "apparent_import_index = df[df['column2'] == 'Total VAh'].index[0] \n",
    "apparent_import = df.at[apparent_import_index, 'column1'].replace(\",\",\"\")\n",
    "\n",
    "first_Q_react_imp = df[df['column2'] == 'Q1 varh'].index[0]\n",
    "second_Q_react_imp = df[df['column2'] == 'Q2 varh'].index[0]\n",
    "reactive_import = float(df.at[first_Q_react_imp, 'column1'].replace(\",\",\"\")) + float(df.at[second_Q_react_imp, 'column1'].replace(\",\",\"\"))\n",
    "\n",
    "first_Q_react_exp = df[df['column2'] == 'Q3 varh'].index[0]\n",
    "second_Q_react_exp = df[df['column2'] == 'Q4 varh'].index[0]\n",
    "reactive_export = float(df.at[first_Q_react_exp, 'column1'].replace(\",\",\"\")) + float(df.at[second_Q_react_exp, 'column1'].replace(\",\",\"\"))\n",
    "\n",
    "reactive_import, reactive_export\n"
   ]
  },
  {
   "cell_type": "code",
   "execution_count": 131,
   "metadata": {},
   "outputs": [
    {
     "data": {
      "text/plain": [
       "('6923960.00', '170110806600.00')"
      ]
     },
     "execution_count": 131,
     "metadata": {},
     "output_type": "execute_result"
    }
   ],
   "source": [
    "rate1 = df.loc[df['column1'] == 'Rate 1', 'column2'].iloc[0].replace(\",\",\"\")\n",
    "rate2 = df.loc[df['column1'] == 'Rate 2', 'column2'].iloc[0].replace(\",\",\"\")\n",
    "rate3 = df.loc[df['column1'] == 'Rate 3', 'column2'].iloc[0].replace(\",\",\"\")\n",
    "\n",
    "rate4 = df.loc[df['column1'] == 'Rate 4', 'column2'].iloc[0].replace(\",\",\"\")\n",
    "rate5 = df.loc[df['column1'] == 'Rate 5', 'column2'].iloc[0].replace(\",\",\"\")\n",
    "rate6 = df.loc[df['column1'] == 'Rate 6', 'column2'].iloc[0].replace(\",\",\"\")\n",
    "rate1,rate6"
   ]
  },
  {
   "cell_type": "code",
   "execution_count": 132,
   "metadata": {},
   "outputs": [],
   "source": [
    "## MAXIMUM DEMANDS\n",
    "max_dem1 = df.loc[df['column1'] == 'MD 1a', 'column2'].iloc[0].replace(\",\",\"\")\n",
    "max_dem1_time = df.loc[df['column1'] == 'MD 1a', 'column4'].iloc[0]\n",
    "\n",
    "## MAXIMUM DEMANDS\n",
    "max_dem2 = df.loc[df['column1'] == 'MD 2a', 'column2'].iloc[0].replace(\",\",\"\")\n",
    "max_dem2_time = df.loc[df['column1'] == 'MD 2a', 'column4'].iloc[0]\n",
    "\n",
    "max_dem3 = df.loc[df['column1'] == 'MD 3a', 'column2'].iloc[0].replace(\",\",\"\")\n",
    "max_dem3_time = df.loc[df['column1'] == 'MD 3a', 'column4'].iloc[0]\n",
    "\n",
    "#COUNT\n",
    "billing_count = df.loc[df['column1'] == 'Count', 'column2'].iloc[0]\n",
    "\n",
    "#BILLING PERIOD\n",
    "billing_end = df.loc[df['column1'] == 'Period End', 'column2'].iloc[0]"
   ]
  },
  {
   "cell_type": "code",
   "execution_count": 134,
   "metadata": {},
   "outputs": [
    {
     "data": {
      "text/plain": [
       "'2025-31-01 18:30'"
      ]
     },
     "execution_count": 134,
     "metadata": {},
     "output_type": "execute_result"
    }
   ],
   "source": [
    "dt1 = datetime.strptime(max_dem1_time, \"%A, %B %d, %Y %I:%M:%S %p\")\n",
    "max_dem1_time = dt1.strftime(\"%Y-%d-%m %H:%M\")\n",
    "\n",
    "dt2 = datetime.strptime(max_dem2_time, \"%A, %B %d, %Y %I:%M:%S %p\")\n",
    "max_dem2_time = dt2.strftime(\"%Y-%d-%m %H:%M\")\n",
    "\n",
    "dt3 = datetime.strptime(max_dem3_time, \"%A, %B %d, %Y %I:%M:%S %p\")\n",
    "max_dem3_time = dt3.strftime(\"%Y-%d-%m %H:%M\")\n",
    "max_dem2_time"
   ]
  },
  {
   "cell_type": "code",
   "execution_count": 135,
   "metadata": {},
   "outputs": [
    {
     "name": "stdout",
     "output_type": "stream",
     "text": [
      "yes\n"
     ]
    },
    {
     "data": {
      "text/plain": [
       "'2025-01-01'"
      ]
     },
     "execution_count": 135,
     "metadata": {},
     "output_type": "execute_result"
    }
   ],
   "source": [
    "dt = datetime.strptime(billing_end, \"%A, %B %d, %Y %I:%M %p\")\n",
    "\n",
    "# Format it to \"YYYY-MM-DD\"\n",
    "\n",
    "if dt.day == 1:\n",
    "    print(\"yes\")\n",
    "    billing_period = dt - relativedelta(months=1)\n",
    "    billing_period = billing_period.strftime(\"%Y-%m-%d\")\n",
    "\n",
    "else:\n",
    "    billing_period = dt.strftime(\"%Y-%m-%d\")\n",
    "billing_period"
   ]
  },
  {
   "cell_type": "code",
   "execution_count": 142,
   "metadata": {},
   "outputs": [
    {
     "name": "stderr",
     "output_type": "stream",
     "text": [
      "C:\\Users\\HP\\AppData\\Local\\Temp\\ipykernel_13764\\664068811.py:27: FutureWarning: The behavior of DataFrame concatenation with empty or all-NA entries is deprecated. In a future version, this will no longer exclude empty or all-NA columns when determining the result dtypes. To retain the old behavior, exclude the relevant entries before the concat operation.\n",
      "  new_df = pd.concat([new_df, row1], ignore_index = True)\n"
     ]
    },
    {
     "data": {
      "text/html": [
       "<div>\n",
       "<style scoped>\n",
       "    .dataframe tbody tr th:only-of-type {\n",
       "        vertical-align: middle;\n",
       "    }\n",
       "\n",
       "    .dataframe tbody tr th {\n",
       "        vertical-align: top;\n",
       "    }\n",
       "\n",
       "    .dataframe thead th {\n",
       "        text-align: right;\n",
       "    }\n",
       "</style>\n",
       "<table border=\"1\" class=\"dataframe\">\n",
       "  <thead>\n",
       "    <tr style=\"text-align: right;\">\n",
       "      <th></th>\n",
       "      <th>cumulative_import</th>\n",
       "      <th>cumulative_export</th>\n",
       "      <th>apparent_import</th>\n",
       "      <th>reactive_import</th>\n",
       "      <th>reactive_export</th>\n",
       "      <th>rate1</th>\n",
       "      <th>rate2</th>\n",
       "      <th>rate3</th>\n",
       "      <th>rate4</th>\n",
       "      <th>rate5</th>\n",
       "      <th>rate6</th>\n",
       "      <th>max_dem1</th>\n",
       "      <th>max_dem1_datetime</th>\n",
       "      <th>max_dem2</th>\n",
       "      <th>max_dem2_datetime</th>\n",
       "      <th>max_dem3</th>\n",
       "      <th>max_dem3_datetime</th>\n",
       "      <th>no_of_resets</th>\n",
       "    </tr>\n",
       "  </thead>\n",
       "  <tbody>\n",
       "    <tr>\n",
       "      <th>0</th>\n",
       "      <td>7913600.00</td>\n",
       "      <td>7913600.00</td>\n",
       "      <td>705095978180.00</td>\n",
       "      <td>2500.01</td>\n",
       "      <td>2.181291e+11</td>\n",
       "      <td>6923960.00</td>\n",
       "      <td>0</td>\n",
       "      <td>0</td>\n",
       "      <td>324365133880.00</td>\n",
       "      <td>172981089960.00</td>\n",
       "      <td>170110806600.00</td>\n",
       "      <td>13758800.00</td>\n",
       "      <td>2025-30-01 16:00</td>\n",
       "      <td>10068800.00</td>\n",
       "      <td>2025-31-01 18:30</td>\n",
       "      <td>10493200.00</td>\n",
       "      <td>2025-14-01 06:00</td>\n",
       "      <td>173</td>\n",
       "    </tr>\n",
       "  </tbody>\n",
       "</table>\n",
       "</div>"
      ],
      "text/plain": [
       "  cumulative_import cumulative_export  apparent_import  reactive_import  \\\n",
       "0        7913600.00        7913600.00  705095978180.00          2500.01   \n",
       "\n",
       "   reactive_export       rate1 rate2 rate3            rate4            rate5  \\\n",
       "0     2.181291e+11  6923960.00     0     0  324365133880.00  172981089960.00   \n",
       "\n",
       "             rate6     max_dem1 max_dem1_datetime     max_dem2  \\\n",
       "0  170110806600.00  13758800.00  2025-30-01 16:00  10068800.00   \n",
       "\n",
       "  max_dem2_datetime     max_dem3 max_dem3_datetime no_of_resets  \n",
       "0  2025-31-01 18:30  10493200.00  2025-14-01 06:00          173  "
      ]
     },
     "execution_count": 142,
     "metadata": {},
     "output_type": "execute_result"
    }
   ],
   "source": [
    "new_df = pd.DataFrame(columns=['cumulative_import', 'cumulative_export','apparent_import', 'reactive_import',\n",
    "                               'reactive_export','rate1', 'rate2', 'rate3', 'rate4', 'rate5', \n",
    "        'rate6','max_dem1','max_dem1_datetime','max_dem2','max_dem2_datetime','max_dem3','max_dem3_datetime',\n",
    "        ])\n",
    "\n",
    "row1 = pd.DataFrame({\n",
    "    'cumulative_import': [cumulative_import],\n",
    "    'cumulative_export': [cumulative_export],\n",
    "    'apparent_import':[apparent_import],\n",
    "    'reactive_import':[reactive_import],\n",
    "    'reactive_export':[reactive_export],\n",
    "    'rate1': [rate1],\n",
    "    'rate2': [rate2],\n",
    "    'rate3': [rate3],\n",
    "    'rate4': [rate4],\n",
    "    'rate5': [rate5],\n",
    "    'rate6': [rate6],\n",
    "    'no_of_resets':[billing_count],\n",
    "    'max_dem1':[max_dem1],\n",
    "    'max_dem1_datetime':[max_dem1_time],\n",
    "    'max_dem2':[max_dem2],\n",
    "    'max_dem2_datetime':[max_dem2_time],\n",
    "    'max_dem3':[max_dem3],\n",
    "    'max_dem3_datetime':[max_dem3_time]\n",
    "})\n",
    "\n",
    "new_df = pd.concat([new_df, row1], ignore_index = True)\n",
    "new_df"
   ]
  },
  {
   "cell_type": "code",
   "execution_count": 143,
   "metadata": {},
   "outputs": [],
   "source": [
    "columns_to_assign_na = ['vt_ratio', 'ct_ratio', 'date_of_last_reset', 'programing_count']\n",
    "\n",
    "for column in columns_to_assign_na:\n",
    "    new_df[column] = pd.NA"
   ]
  },
  {
   "cell_type": "code",
   "execution_count": 145,
   "metadata": {},
   "outputs": [
    {
     "data": {
      "text/html": [
       "<div>\n",
       "<style scoped>\n",
       "    .dataframe tbody tr th:only-of-type {\n",
       "        vertical-align: middle;\n",
       "    }\n",
       "\n",
       "    .dataframe tbody tr th {\n",
       "        vertical-align: top;\n",
       "    }\n",
       "\n",
       "    .dataframe thead th {\n",
       "        text-align: right;\n",
       "    }\n",
       "</style>\n",
       "<table border=\"1\" class=\"dataframe\">\n",
       "  <thead>\n",
       "    <tr style=\"text-align: right;\">\n",
       "      <th></th>\n",
       "      <th>cumulative_import</th>\n",
       "      <th>cumulative_export</th>\n",
       "      <th>apparent_import</th>\n",
       "      <th>reactive_import</th>\n",
       "      <th>reactive_export</th>\n",
       "      <th>rate1</th>\n",
       "      <th>rate2</th>\n",
       "      <th>rate3</th>\n",
       "      <th>rate4</th>\n",
       "      <th>rate5</th>\n",
       "      <th>...</th>\n",
       "      <th>max_dem1_datetime</th>\n",
       "      <th>max_dem2</th>\n",
       "      <th>max_dem2_datetime</th>\n",
       "      <th>max_dem3</th>\n",
       "      <th>max_dem3_datetime</th>\n",
       "      <th>no_of_resets</th>\n",
       "      <th>vt_ratio</th>\n",
       "      <th>ct_ratio</th>\n",
       "      <th>date_of_last_reset</th>\n",
       "      <th>programing_count</th>\n",
       "    </tr>\n",
       "  </thead>\n",
       "  <tbody>\n",
       "    <tr>\n",
       "      <th>0</th>\n",
       "      <td>7913600.00</td>\n",
       "      <td>7913600.00</td>\n",
       "      <td>705095978180.00</td>\n",
       "      <td>2500.01</td>\n",
       "      <td>2.181291e+11</td>\n",
       "      <td>6923960.00</td>\n",
       "      <td>0</td>\n",
       "      <td>0</td>\n",
       "      <td>324365133880.00</td>\n",
       "      <td>172981089960.00</td>\n",
       "      <td>...</td>\n",
       "      <td>2025-30-01 16:00</td>\n",
       "      <td>10068800.00</td>\n",
       "      <td>2025-31-01 18:30</td>\n",
       "      <td>10493200.00</td>\n",
       "      <td>2025-14-01 06:00</td>\n",
       "      <td>173</td>\n",
       "      <td>&lt;NA&gt;</td>\n",
       "      <td>&lt;NA&gt;</td>\n",
       "      <td>&lt;NA&gt;</td>\n",
       "      <td>&lt;NA&gt;</td>\n",
       "    </tr>\n",
       "  </tbody>\n",
       "</table>\n",
       "<p>1 rows × 22 columns</p>\n",
       "</div>"
      ],
      "text/plain": [
       "  cumulative_import cumulative_export  apparent_import  reactive_import  \\\n",
       "0        7913600.00        7913600.00  705095978180.00          2500.01   \n",
       "\n",
       "   reactive_export       rate1 rate2 rate3            rate4            rate5  \\\n",
       "0     2.181291e+11  6923960.00     0     0  324365133880.00  172981089960.00   \n",
       "\n",
       "   ... max_dem1_datetime     max_dem2 max_dem2_datetime     max_dem3  \\\n",
       "0  ...  2025-30-01 16:00  10068800.00  2025-31-01 18:30  10493200.00   \n",
       "\n",
       "  max_dem3_datetime no_of_resets vt_ratio ct_ratio date_of_last_reset  \\\n",
       "0  2025-14-01 06:00          173     <NA>     <NA>               <NA>   \n",
       "\n",
       "  programing_count  \n",
       "0             <NA>  \n",
       "\n",
       "[1 rows x 22 columns]"
      ]
     },
     "execution_count": 145,
     "metadata": {},
     "output_type": "execute_result"
    }
   ],
   "source": [
    "new_df"
   ]
  },
  {
   "cell_type": "code",
   "execution_count": null,
   "metadata": {},
   "outputs": [],
   "source": []
  }
 ],
 "metadata": {
  "kernelspec": {
   "display_name": "venv",
   "language": "python",
   "name": "python3"
  },
  "language_info": {
   "codemirror_mode": {
    "name": "ipython",
    "version": 3
   },
   "file_extension": ".py",
   "mimetype": "text/x-python",
   "name": "python",
   "nbconvert_exporter": "python",
   "pygments_lexer": "ipython3",
   "version": "3.13.1"
  }
 },
 "nbformat": 4,
 "nbformat_minor": 2
}
