{
 "cells": [
  {
   "cell_type": "code",
   "execution_count": 46,
   "metadata": {},
   "outputs": [],
   "source": [
    "import pandas as pd\n",
    "import numpy as np\n",
    "import openpyxl\n",
    "from datetime import datetime\n",
    "from dateutil.relativedelta import relativedelta\n",
    "import gc"
   ]
  },
  {
   "cell_type": "code",
   "execution_count": 47,
   "metadata": {},
   "outputs": [],
   "source": [
    "file_path = \"test.csv\"\n",
    "#file.head()"
   ]
  },
  {
   "cell_type": "code",
   "execution_count": 48,
   "metadata": {},
   "outputs": [
    {
     "name": "stdout",
     "output_type": "stream",
     "text": [
      "       UETCL0107\n",
      "       UETCL0107\n",
      "23\n"
     ]
    }
   ],
   "source": [
    "import csv\n",
    "with open(file_path, newline='', encoding='utf-8') as file:\n",
    "    reader = csv.reader(file)\n",
    "    \n",
    "    #Loop through each row and check if any cell contains '----'\n",
    "    for row in reader:\n",
    "        if any('----' in cell for cell in row):\n",
    "            for item in row:\n",
    "                if item.startswith(\"---\"):\n",
    "                    serial_no = item.split(\" \")[0].replace(\"-\",\" \")\n",
    "                    #print(row)  # Print the row containing the pattern\n",
    "                    print(serial_no)\n",
    "                    break\n",
    "                \n",
    "with open(file_path, newline='', encoding='utf-8') as file:    \n",
    "    reader = csv.reader(file)\n",
    "    i = 0\n",
    "    for row in reader:        \n",
    "        #if row0] == 'Historical Data':\n",
    "        if \"Historical Data Set\" in row[1]:\n",
    "            #print(row)\n",
    "            print(i)\n",
    "            break\n",
    "        else:\n",
    "            i+= 1\n",
    "file.close()\n"
   ]
  },
  {
   "cell_type": "code",
   "execution_count": 49,
   "metadata": {},
   "outputs": [],
   "source": [
    "# import pandas as pd\n",
    "\n",
    "# # Replace with the actual path to your CSV file\n",
    "# file_path = 'HIST12.csv'\n",
    "\n",
    "# Read the CSV file, skipping the first 24 rows\n",
    "df = pd.read_csv(file_path, skiprows=range(i))\n",
    "\n",
    "# Display the resulting DataFrame\n",
    "#df\n"
   ]
  },
  {
   "cell_type": "code",
   "execution_count": 50,
   "metadata": {},
   "outputs": [],
   "source": [
    "df = df[[df.columns[3],df.columns[4],df.columns[5],df.columns[6]]]\n",
    "df = df.rename(columns={df.columns[0]:'column1',df.columns[1]:'column2',df.columns[2]:'column3',df.columns[3]:'column4'})"
   ]
  },
  {
   "cell_type": "code",
   "execution_count": 51,
   "metadata": {},
   "outputs": [
    {
     "data": {
      "text/plain": [
       "(386175425210.124, 10667961807.632)"
      ]
     },
     "execution_count": 51,
     "metadata": {},
     "output_type": "execute_result"
    }
   ],
   "source": [
    "first_index_imp = df[df['column2'] == 'Import Wh'].index[0] \n",
    "cumulative_import = df.at[first_index_imp, 'column1'].replace(\",\",\"\")\n",
    "\n",
    "first_index_exp = df[df['column2'] == 'Import Wh'].index[0] \n",
    "cumulative_export = df.at[first_index_exp, 'column1'].replace(\",\",\"\")\n",
    "\n",
    "apparent_import_index = df[df['column2'] == 'Total VAh'].index[0] \n",
    "apparent_import = df.at[apparent_import_index, 'column1'].replace(\",\",\"\")\n",
    "\n",
    "first_Q_react_imp = df[df['column2'] == 'Q1 varh'].index[0]\n",
    "second_Q_react_imp = df[df['column2'] == 'Q2 varh'].index[0]\n",
    "reactive_import = float(df.at[first_Q_react_imp, 'column1'].replace(\",\",\"\")) + float(df.at[second_Q_react_imp, 'column1'].replace(\",\",\"\"))\n",
    "\n",
    "first_Q_react_exp = df[df['column2'] == 'Q3 varh'].index[0]\n",
    "second_Q_react_exp = df[df['column2'] == 'Q4 varh'].index[0]\n",
    "reactive_export = float(df.at[first_Q_react_exp, 'column1'].replace(\",\",\"\")) + float(df.at[second_Q_react_exp, 'column1'].replace(\",\",\"\"))\n",
    "\n",
    "reactive_import, reactive_export\n"
   ]
  },
  {
   "cell_type": "code",
   "execution_count": 52,
   "metadata": {},
   "outputs": [
    {
     "data": {
      "text/plain": [
       "('431408007060.190', '480600.000')"
      ]
     },
     "execution_count": 52,
     "metadata": {},
     "output_type": "execute_result"
    }
   ],
   "source": [
    "rate1 = df.loc[df['column1'] == 'Rate 1', 'column2'].iloc[0].replace(\",\",\"\")\n",
    "rate2 = df.loc[df['column1'] == 'Rate 2', 'column2'].iloc[0].replace(\",\",\"\")\n",
    "rate3 = df.loc[df['column1'] == 'Rate 3', 'column2'].iloc[0].replace(\",\",\"\")\n",
    "\n",
    "rate4 = df.loc[df['column1'] == 'Rate 4', 'column2'].iloc[0].replace(\",\",\"\")\n",
    "rate5 = df.loc[df['column1'] == 'Rate 5', 'column2'].iloc[0].replace(\",\",\"\")\n",
    "rate6 = df.loc[df['column1'] == 'Rate 6', 'column2'].iloc[0].replace(\",\",\"\")\n",
    "rate1,rate6"
   ]
  },
  {
   "cell_type": "code",
   "execution_count": 53,
   "metadata": {},
   "outputs": [
    {
     "data": {
      "text/html": [
       "<div>\n",
       "<style scoped>\n",
       "    .dataframe tbody tr th:only-of-type {\n",
       "        vertical-align: middle;\n",
       "    }\n",
       "\n",
       "    .dataframe tbody tr th {\n",
       "        vertical-align: top;\n",
       "    }\n",
       "\n",
       "    .dataframe thead th {\n",
       "        text-align: right;\n",
       "    }\n",
       "</style>\n",
       "<table border=\"1\" class=\"dataframe\">\n",
       "  <thead>\n",
       "    <tr style=\"text-align: right;\">\n",
       "      <th></th>\n",
       "      <th>column1</th>\n",
       "      <th>column2</th>\n",
       "      <th>column3</th>\n",
       "      <th>column4</th>\n",
       "    </tr>\n",
       "  </thead>\n",
       "  <tbody>\n",
       "    <tr>\n",
       "      <th>0</th>\n",
       "      <td>NaN</td>\n",
       "      <td>NaN</td>\n",
       "      <td>NaN</td>\n",
       "      <td>NaN</td>\n",
       "    </tr>\n",
       "    <tr>\n",
       "      <th>1</th>\n",
       "      <td>Value</td>\n",
       "      <td>Source</td>\n",
       "      <td>NaN</td>\n",
       "      <td>NaN</td>\n",
       "    </tr>\n",
       "    <tr>\n",
       "      <th>2</th>\n",
       "      <td>883,005,223,060.190</td>\n",
       "      <td>Import Wh</td>\n",
       "      <td>NaN</td>\n",
       "      <td>NaN</td>\n",
       "    </tr>\n",
       "    <tr>\n",
       "      <th>3</th>\n",
       "      <td>632,605.734</td>\n",
       "      <td>Export Wh</td>\n",
       "      <td>NaN</td>\n",
       "      <td>NaN</td>\n",
       "    </tr>\n",
       "    <tr>\n",
       "      <th>4</th>\n",
       "      <td>386,175,387,648.124</td>\n",
       "      <td>Q1 varh</td>\n",
       "      <td>NaN</td>\n",
       "      <td>NaN</td>\n",
       "    </tr>\n",
       "    <tr>\n",
       "      <th>...</th>\n",
       "      <td>...</td>\n",
       "      <td>...</td>\n",
       "      <td>...</td>\n",
       "      <td>...</td>\n",
       "    </tr>\n",
       "    <tr>\n",
       "      <th>1484</th>\n",
       "      <td>Period End</td>\n",
       "      <td>Friday, March 1, 2024 12:00 AM</td>\n",
       "      <td>NaN</td>\n",
       "      <td>NaN</td>\n",
       "    </tr>\n",
       "    <tr>\n",
       "      <th>1485</th>\n",
       "      <td>Billing Reason</td>\n",
       "      <td>NaN</td>\n",
       "      <td>NaN</td>\n",
       "      <td>NaN</td>\n",
       "    </tr>\n",
       "    <tr>\n",
       "      <th>1486</th>\n",
       "      <td>NaN</td>\n",
       "      <td>Automatic Billing Date</td>\n",
       "      <td>NaN</td>\n",
       "      <td>NaN</td>\n",
       "    </tr>\n",
       "    <tr>\n",
       "      <th>1487</th>\n",
       "      <td>NaN</td>\n",
       "      <td>NaN</td>\n",
       "      <td>NaN</td>\n",
       "      <td>NaN</td>\n",
       "    </tr>\n",
       "    <tr>\n",
       "      <th>1488</th>\n",
       "      <td>NaN</td>\n",
       "      <td>NaN</td>\n",
       "      <td>NaN</td>\n",
       "      <td>NaN</td>\n",
       "    </tr>\n",
       "  </tbody>\n",
       "</table>\n",
       "<p>1489 rows × 4 columns</p>\n",
       "</div>"
      ],
      "text/plain": [
       "                  column1                         column2 column3 column4\n",
       "0                     NaN                             NaN     NaN     NaN\n",
       "1                   Value                          Source     NaN     NaN\n",
       "2     883,005,223,060.190                       Import Wh     NaN     NaN\n",
       "3             632,605.734                       Export Wh     NaN     NaN\n",
       "4     386,175,387,648.124                         Q1 varh     NaN     NaN\n",
       "...                   ...                             ...     ...     ...\n",
       "1484           Period End  Friday, March 1, 2024 12:00 AM     NaN     NaN\n",
       "1485       Billing Reason                             NaN     NaN     NaN\n",
       "1486                  NaN          Automatic Billing Date     NaN     NaN\n",
       "1487                  NaN                             NaN     NaN     NaN\n",
       "1488                  NaN                             NaN     NaN     NaN\n",
       "\n",
       "[1489 rows x 4 columns]"
      ]
     },
     "execution_count": 53,
     "metadata": {},
     "output_type": "execute_result"
    }
   ],
   "source": [
    "df"
   ]
  },
  {
   "cell_type": "code",
   "execution_count": 54,
   "metadata": {},
   "outputs": [],
   "source": [
    "## MAXIMUM DEMANDS\n",
    "max_dem1 = df.loc[df['column1'] == 'MD 1a', 'column2'].iloc[0].replace(\",\",\"\")\n",
    "max_dem1_time = df.loc[df['column1'] == 'MD 1a', 'column4'].iloc[0]\n",
    "\n",
    "## MAXIMUM DEMANDS\n",
    "max_dem2 = df.loc[df['column1'] == 'MD 2a', 'column2'].iloc[0].replace(\",\",\"\")\n",
    "max_dem2_time = df.loc[df['column1'] == 'MD 2a', 'column4'].iloc[0]\n",
    "\n",
    "max_dem3 = df.loc[df['column1'] == 'MD 3a', 'column2'].iloc[0].replace(\",\",\"\")\n",
    "max_dem3_time = df.loc[df['column1'] == 'MD 3a', 'column4'].iloc[0]\n",
    "\n",
    "#COUNT\n",
    "billing_count = df.loc[df['column1'] == 'Count', 'column2'].iloc[0]\n",
    "\n",
    "#BILLING PERIOD\n",
    "billing_end = df.loc[df['column1'] == 'Period End', 'column2'].iloc[0]"
   ]
  },
  {
   "cell_type": "code",
   "execution_count": 55,
   "metadata": {},
   "outputs": [
    {
     "data": {
      "text/plain": [
       "'2025-09-01 21:00'"
      ]
     },
     "execution_count": 55,
     "metadata": {},
     "output_type": "execute_result"
    }
   ],
   "source": [
    "dt1 = datetime.strptime(max_dem1_time, \"%A, %B %d, %Y %I:%M:%S %p\")\n",
    "max_dem1_time = dt1.strftime(\"%Y-%d-%m %H:%M\")\n",
    "\n",
    "dt2 = datetime.strptime(max_dem2_time, \"%A, %B %d, %Y %I:%M:%S %p\")\n",
    "max_dem2_time = dt2.strftime(\"%Y-%d-%m %H:%M\")\n",
    "\n",
    "dt3 = datetime.strptime(max_dem3_time, \"%A, %B %d, %Y %I:%M:%S %p\")\n",
    "max_dem3_time = dt3.strftime(\"%Y-%d-%m %H:%M\")\n",
    "max_dem2_time"
   ]
  },
  {
   "cell_type": "code",
   "execution_count": 56,
   "metadata": {},
   "outputs": [],
   "source": [
    "# string1 = \"Thursday, December 12, 2024 12:30:00 PM\"\n",
    "# dt1 = datetime.strptime(string1, \"%A, %B %d, %Y %I:%M:%S %p\")\n",
    "# dt1.strftime(\"%Y-%d-%m %H:%M\")"
   ]
  },
  {
   "cell_type": "code",
   "execution_count": 57,
   "metadata": {},
   "outputs": [
    {
     "name": "stdout",
     "output_type": "stream",
     "text": [
      "2025-02-01\n"
     ]
    }
   ],
   "source": [
    "dt = datetime.strptime(billing_end, \"%A, %B %d, %Y %I:%M %p\")\n",
    "billing_period = dt.strftime(\"%Y-%m-%d\")\n",
    "print(billing_period)\n",
    "\n",
    "# # Format it to \"YYYY-MM-DD\"\n",
    "\n",
    "# if dt.day == 1:\n",
    "#     print(\"yes\")\n",
    "#     billing_period = dt - relativedelta(months=1)\n",
    "#     billing_period = billing_period.strftime(\"%Y-%m-%d\")\n",
    "\n",
    "# else:\n",
    "#     billing_period = dt.strftime(\"%Y-%m-%d\")\n",
    "# billing_period"
   ]
  },
  {
   "cell_type": "code",
   "execution_count": 58,
   "metadata": {},
   "outputs": [
    {
     "name": "stderr",
     "output_type": "stream",
     "text": [
      "C:\\Users\\HP\\AppData\\Local\\Temp\\ipykernel_132\\2186586648.py:29: FutureWarning: The behavior of DataFrame concatenation with empty or all-NA entries is deprecated. In a future version, this will no longer exclude empty or all-NA columns when determining the result dtypes. To retain the old behavior, exclude the relevant entries before the concat operation.\n",
      "  new_df = pd.concat([new_df, row1], ignore_index = True)\n"
     ]
    },
    {
     "data": {
      "text/html": [
       "<div>\n",
       "<style scoped>\n",
       "    .dataframe tbody tr th:only-of-type {\n",
       "        vertical-align: middle;\n",
       "    }\n",
       "\n",
       "    .dataframe tbody tr th {\n",
       "        vertical-align: top;\n",
       "    }\n",
       "\n",
       "    .dataframe thead th {\n",
       "        text-align: right;\n",
       "    }\n",
       "</style>\n",
       "<table border=\"1\" class=\"dataframe\">\n",
       "  <thead>\n",
       "    <tr style=\"text-align: right;\">\n",
       "      <th></th>\n",
       "      <th>serial_no</th>\n",
       "      <th>billing_period</th>\n",
       "      <th>cumulative_import</th>\n",
       "      <th>cumulative_export</th>\n",
       "      <th>apparent_import</th>\n",
       "      <th>reactive_import</th>\n",
       "      <th>reactive_export</th>\n",
       "      <th>rate1</th>\n",
       "      <th>rate2</th>\n",
       "      <th>rate3</th>\n",
       "      <th>rate4</th>\n",
       "      <th>rate5</th>\n",
       "      <th>rate6</th>\n",
       "      <th>max_dem1</th>\n",
       "      <th>max_dem1_datetime</th>\n",
       "      <th>max_dem2</th>\n",
       "      <th>max_dem2_datetime</th>\n",
       "      <th>max_dem3</th>\n",
       "      <th>max_dem3_datetime</th>\n",
       "      <th>no_of_resets</th>\n",
       "    </tr>\n",
       "  </thead>\n",
       "  <tbody>\n",
       "    <tr>\n",
       "      <th>0</th>\n",
       "      <td>UETCL0107</td>\n",
       "      <td>2025-02-01</td>\n",
       "      <td>883005223060.190</td>\n",
       "      <td>883005223060.190</td>\n",
       "      <td>977815437275.392</td>\n",
       "      <td>3.861754e+11</td>\n",
       "      <td>1.066796e+10</td>\n",
       "      <td>431408007060.190</td>\n",
       "      <td>279596152000.000</td>\n",
       "      <td>172001064000.000</td>\n",
       "      <td>49020.190</td>\n",
       "      <td>103205.734</td>\n",
       "      <td>480600.000</td>\n",
       "      <td>14927000.000</td>\n",
       "      <td>2025-10-01 12:00</td>\n",
       "      <td>17044000.000</td>\n",
       "      <td>2025-09-01 21:00</td>\n",
       "      <td>12239600.000</td>\n",
       "      <td>2025-05-01 01:00</td>\n",
       "      <td>146.000</td>\n",
       "    </tr>\n",
       "  </tbody>\n",
       "</table>\n",
       "</div>"
      ],
      "text/plain": [
       "          serial_no billing_period cumulative_import cumulative_export  \\\n",
       "0         UETCL0107     2025-02-01  883005223060.190  883005223060.190   \n",
       "\n",
       "    apparent_import  reactive_import  reactive_export             rate1  \\\n",
       "0  977815437275.392     3.861754e+11     1.066796e+10  431408007060.190   \n",
       "\n",
       "              rate2             rate3      rate4       rate5       rate6  \\\n",
       "0  279596152000.000  172001064000.000  49020.190  103205.734  480600.000   \n",
       "\n",
       "       max_dem1 max_dem1_datetime      max_dem2 max_dem2_datetime  \\\n",
       "0  14927000.000  2025-10-01 12:00  17044000.000  2025-09-01 21:00   \n",
       "\n",
       "       max_dem3 max_dem3_datetime no_of_resets  \n",
       "0  12239600.000  2025-05-01 01:00      146.000  "
      ]
     },
     "execution_count": 58,
     "metadata": {},
     "output_type": "execute_result"
    }
   ],
   "source": [
    "new_df = pd.DataFrame(columns=['serial_no','billing_period','cumulative_import', 'cumulative_export','apparent_import', 'reactive_import',\n",
    "                               'reactive_export','rate1', 'rate2', 'rate3', 'rate4', 'rate5', \n",
    "        'rate6','max_dem1','max_dem1_datetime','max_dem2','max_dem2_datetime','max_dem3','max_dem3_datetime',\n",
    "        ])\n",
    "\n",
    "row1 = pd.DataFrame({\n",
    "    'serial_no':[serial_no],\n",
    "    'billing_period':[billing_period],\n",
    "    'cumulative_import': [cumulative_import],\n",
    "    'cumulative_export': [cumulative_export],\n",
    "    'apparent_import':[apparent_import],\n",
    "    'reactive_import':[reactive_import],\n",
    "    'reactive_export':[reactive_export],\n",
    "    'rate1': [rate1],\n",
    "    'rate2': [rate2],\n",
    "    'rate3': [rate3],\n",
    "    'rate4': [rate4],\n",
    "    'rate5': [rate5],\n",
    "    'rate6': [rate6],\n",
    "    'no_of_resets':[billing_count],\n",
    "    'max_dem1':[max_dem1],\n",
    "    'max_dem1_datetime':[max_dem1_time],\n",
    "    'max_dem2':[max_dem2],\n",
    "    'max_dem2_datetime':[max_dem2_time],\n",
    "    'max_dem3':[max_dem3],\n",
    "    'max_dem3_datetime':[max_dem3_time]\n",
    "})\n",
    "\n",
    "new_df = pd.concat([new_df, row1], ignore_index = True)\n",
    "new_df"
   ]
  },
  {
   "cell_type": "code",
   "execution_count": 59,
   "metadata": {},
   "outputs": [],
   "source": [
    "columns_to_assign_na = ['vt_ratio', 'ct_ratio', 'date_of_last_reset', 'programing_count']\n",
    "\n",
    "for column in columns_to_assign_na:\n",
    "    new_df[column] = pd.NA"
   ]
  },
  {
   "cell_type": "code",
   "execution_count": 60,
   "metadata": {},
   "outputs": [
    {
     "data": {
      "text/html": [
       "<div>\n",
       "<style scoped>\n",
       "    .dataframe tbody tr th:only-of-type {\n",
       "        vertical-align: middle;\n",
       "    }\n",
       "\n",
       "    .dataframe tbody tr th {\n",
       "        vertical-align: top;\n",
       "    }\n",
       "\n",
       "    .dataframe thead th {\n",
       "        text-align: right;\n",
       "    }\n",
       "</style>\n",
       "<table border=\"1\" class=\"dataframe\">\n",
       "  <thead>\n",
       "    <tr style=\"text-align: right;\">\n",
       "      <th></th>\n",
       "      <th>serial_no</th>\n",
       "      <th>billing_period</th>\n",
       "      <th>cumulative_import</th>\n",
       "      <th>cumulative_export</th>\n",
       "      <th>apparent_import</th>\n",
       "      <th>reactive_import</th>\n",
       "      <th>reactive_export</th>\n",
       "      <th>rate1</th>\n",
       "      <th>rate2</th>\n",
       "      <th>rate3</th>\n",
       "      <th>...</th>\n",
       "      <th>max_dem1_datetime</th>\n",
       "      <th>max_dem2</th>\n",
       "      <th>max_dem2_datetime</th>\n",
       "      <th>max_dem3</th>\n",
       "      <th>max_dem3_datetime</th>\n",
       "      <th>no_of_resets</th>\n",
       "      <th>vt_ratio</th>\n",
       "      <th>ct_ratio</th>\n",
       "      <th>date_of_last_reset</th>\n",
       "      <th>programing_count</th>\n",
       "    </tr>\n",
       "  </thead>\n",
       "  <tbody>\n",
       "    <tr>\n",
       "      <th>0</th>\n",
       "      <td>UETCL0107</td>\n",
       "      <td>2025-02-01</td>\n",
       "      <td>883005223060.190</td>\n",
       "      <td>883005223060.190</td>\n",
       "      <td>977815437275.392</td>\n",
       "      <td>3.861754e+11</td>\n",
       "      <td>1.066796e+10</td>\n",
       "      <td>431408007060.190</td>\n",
       "      <td>279596152000.000</td>\n",
       "      <td>172001064000.000</td>\n",
       "      <td>...</td>\n",
       "      <td>2025-10-01 12:00</td>\n",
       "      <td>17044000.000</td>\n",
       "      <td>2025-09-01 21:00</td>\n",
       "      <td>12239600.000</td>\n",
       "      <td>2025-05-01 01:00</td>\n",
       "      <td>146.000</td>\n",
       "      <td>&lt;NA&gt;</td>\n",
       "      <td>&lt;NA&gt;</td>\n",
       "      <td>&lt;NA&gt;</td>\n",
       "      <td>&lt;NA&gt;</td>\n",
       "    </tr>\n",
       "  </tbody>\n",
       "</table>\n",
       "<p>1 rows × 24 columns</p>\n",
       "</div>"
      ],
      "text/plain": [
       "          serial_no billing_period cumulative_import cumulative_export  \\\n",
       "0         UETCL0107     2025-02-01  883005223060.190  883005223060.190   \n",
       "\n",
       "    apparent_import  reactive_import  reactive_export             rate1  \\\n",
       "0  977815437275.392     3.861754e+11     1.066796e+10  431408007060.190   \n",
       "\n",
       "              rate2             rate3  ... max_dem1_datetime      max_dem2  \\\n",
       "0  279596152000.000  172001064000.000  ...  2025-10-01 12:00  17044000.000   \n",
       "\n",
       "  max_dem2_datetime      max_dem3 max_dem3_datetime no_of_resets vt_ratio  \\\n",
       "0  2025-09-01 21:00  12239600.000  2025-05-01 01:00      146.000     <NA>   \n",
       "\n",
       "  ct_ratio date_of_last_reset programing_count  \n",
       "0     <NA>               <NA>             <NA>  \n",
       "\n",
       "[1 rows x 24 columns]"
      ]
     },
     "execution_count": 60,
     "metadata": {},
     "output_type": "execute_result"
    }
   ],
   "source": [
    "new_df"
   ]
  },
  {
   "cell_type": "code",
   "execution_count": 61,
   "metadata": {},
   "outputs": [
    {
     "data": {
      "text/plain": [
       "Index(['serial_no', 'billing_period', 'cumulative_import', 'cumulative_export',\n",
       "       'apparent_import', 'reactive_import', 'reactive_export', 'rate1',\n",
       "       'rate2', 'rate3', 'rate4', 'rate5', 'rate6', 'max_dem1',\n",
       "       'max_dem1_datetime', 'max_dem2', 'max_dem2_datetime', 'max_dem3',\n",
       "       'max_dem3_datetime', 'no_of_resets', 'vt_ratio', 'ct_ratio',\n",
       "       'date_of_last_reset', 'programing_count'],\n",
       "      dtype='object')"
      ]
     },
     "execution_count": 61,
     "metadata": {},
     "output_type": "execute_result"
    }
   ],
   "source": [
    "new_df.columns"
   ]
  },
  {
   "cell_type": "code",
   "execution_count": 62,
   "metadata": {},
   "outputs": [
    {
     "data": {
      "text/plain": [
       "'Saturday, February 1, 2025 12:00 AM'"
      ]
     },
     "execution_count": 62,
     "metadata": {},
     "output_type": "execute_result"
    }
   ],
   "source": [
    "billing_end"
   ]
  },
  {
   "cell_type": "code",
   "execution_count": 66,
   "metadata": {},
   "outputs": [
    {
     "data": {
      "text/plain": [
       "{'serial_no': '       UETCL0107',\n",
       " 'billing_period': '2025-02-01',\n",
       " 'cumulative_import': '883005223060.190',\n",
       " 'cumulative_export': '883005223060.190',\n",
       " 'apparent_import': '977815437275.392',\n",
       " 'reactive_import': 386175425210.124,\n",
       " 'reactive_export': 10667961807.632,\n",
       " 'rate1': '431408007060.190',\n",
       " 'rate2': '279596152000.000',\n",
       " 'rate3': '172001064000.000',\n",
       " 'rate4': '49020.190',\n",
       " 'rate5': '103205.734',\n",
       " 'rate6': '480600.000',\n",
       " 'no_of_resets': '146.000',\n",
       " 'max_dem1': '14927000.000',\n",
       " 'max_dem1_datetime': '2025-10-01 12:00',\n",
       " 'max_dem2': '17044000.000',\n",
       " 'max_dem2_datetime': '2025-09-01 21:00',\n",
       " 'max_dem3': '12239600.000',\n",
       " 'max_dem3_datetime': '2025-05-01 01:00',\n",
       " 'vt_ratio': <NA>,\n",
       " 'ct_ratio': <NA>,\n",
       " 'date_of_last_reset': <NA>,\n",
       " 'programing_count': <NA>}"
      ]
     },
     "execution_count": 66,
     "metadata": {},
     "output_type": "execute_result"
    }
   ],
   "source": [
    "row1 ={'serial_no':serial_no,'billing_period':billing_period,'cumulative_import': cumulative_import,\n",
    "    'cumulative_export': cumulative_export,'apparent_import':apparent_import,'reactive_import':reactive_import,\n",
    "    'reactive_export':reactive_export,'rate1': rate1,'rate2': rate2,'rate3': rate3,'rate4': rate4,'rate5': rate5,\n",
    "    'rate6':rate6,'no_of_resets':billing_count,'max_dem1':max_dem1,'max_dem1_datetime':max_dem1_time,'max_dem2':max_dem2,\n",
    "    'max_dem2_datetime':max_dem2_time,'max_dem3':max_dem3,'max_dem3_datetime':max_dem3_time,\n",
    "    'vt_ratio': pd.NA, 'ct_ratio': pd.NA, 'date_of_last_reset': pd.NA, 'programing_count': pd.NA\n",
    "}\n",
    "row1"
   ]
  },
  {
   "cell_type": "code",
   "execution_count": 64,
   "metadata": {},
   "outputs": [],
   "source": [
    "list_to_divide = ['cumulative_import'\n",
    " 'cumulative_export',\n",
    " 'apparent_import',\n",
    " 'reactive_import',\n",
    " 'reactive_export',\n",
    " 'rate1',\n",
    " 'rate2',\n",
    " 'rate3',\n",
    " 'rate4',\n",
    " 'rate5',\n",
    " 'rate6']"
   ]
  },
  {
   "cell_type": "code",
   "execution_count": 71,
   "metadata": {},
   "outputs": [
    {
     "name": "stdout",
     "output_type": "stream",
     "text": [
      "0.9778154372753919\n",
      "0.386175425210124\n",
      "0.010667961807631998\n",
      "0.43140800706019\n",
      "0.27959615200000004\n",
      "0.172001064\n",
      "4.902019e-08\n",
      "1.0320573399999999e-07\n",
      "4.806e-07\n"
     ]
    },
    {
     "data": {
      "text/plain": [
       "{'serial_no': '       UETCL0107',\n",
       " 'billing_period': '2025-02-01',\n",
       " 'cumulative_import': '883005223060.190',\n",
       " 'cumulative_export': '883005223060.190',\n",
       " 'apparent_import': 0.9778154372753919,\n",
       " 'reactive_import': 0.386175425210124,\n",
       " 'reactive_export': 0.010667961807631998,\n",
       " 'rate1': 0.43140800706019,\n",
       " 'rate2': 0.27959615200000004,\n",
       " 'rate3': 0.172001064,\n",
       " 'rate4': 4.902019e-08,\n",
       " 'rate5': 1.0320573399999999e-07,\n",
       " 'rate6': 4.806e-07,\n",
       " 'no_of_resets': '146.000',\n",
       " 'max_dem1': '14927000.000',\n",
       " 'max_dem1_datetime': '2025-10-01 12:00',\n",
       " 'max_dem2': '17044000.000',\n",
       " 'max_dem2_datetime': '2025-09-01 21:00',\n",
       " 'max_dem3': '12239600.000',\n",
       " 'max_dem3_datetime': '2025-05-01 01:00',\n",
       " 'vt_ratio': <NA>,\n",
       " 'ct_ratio': <NA>,\n",
       " 'date_of_last_reset': <NA>,\n",
       " 'programing_count': <NA>}"
      ]
     },
     "execution_count": 71,
     "metadata": {},
     "output_type": "execute_result"
    }
   ],
   "source": [
    "for key, value in row1.items():\n",
    "    #print(key)\n",
    "    \n",
    "    if key in list_to_divide:\n",
    "        #print(\"YES\")\n",
    "        #print(value)\n",
    "        row1[key] = float(value) / 1000\n",
    "        print(row1[key])\n",
    "\n",
    "\n",
    "row1\n"
   ]
  },
  {
   "cell_type": "code",
   "execution_count": null,
   "metadata": {},
   "outputs": [],
   "source": [
    "431,408,007,060.19\n"
   ]
  }
 ],
 "metadata": {
  "kernelspec": {
   "display_name": "venv",
   "language": "python",
   "name": "python3"
  },
  "language_info": {
   "codemirror_mode": {
    "name": "ipython",
    "version": 3
   },
   "file_extension": ".py",
   "mimetype": "text/x-python",
   "name": "python",
   "nbconvert_exporter": "python",
   "pygments_lexer": "ipython3",
   "version": "3.13.1"
  }
 },
 "nbformat": 4,
 "nbformat_minor": 2
}
