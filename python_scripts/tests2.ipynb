{
 "cells": [
  {
   "cell_type": "code",
   "execution_count": 2,
   "metadata": {},
   "outputs": [
    {
     "name": "stdout",
     "output_type": "stream",
     "text": [
      "2025-03-13 17:54\n"
     ]
    }
   ],
   "source": [
    "pp = \"2025-03-13T17:54\"\n",
    "pp = pp.replace(\"T\", \" \")\n",
    "print(pp)"
   ]
  },
  {
   "cell_type": "code",
   "execution_count": null,
   "metadata": {},
   "outputs": [],
   "source": [
    "#2025-03-13T17:54 replace T with space\n",
    "#2025-03-13 17:54\n",
    "#pp.replace(\"T\", \" \") is not correct because it does not change the value of pp\n",
    "#pp = pp.replace(\"T\", \" \") is correct because it changes the value of pp"
   ]
  }
 ],
 "metadata": {
  "kernelspec": {
   "display_name": "venv",
   "language": "python",
   "name": "python3"
  },
  "language_info": {
   "codemirror_mode": {
    "name": "ipython",
    "version": 3
   },
   "file_extension": ".py",
   "mimetype": "text/x-python",
   "name": "python",
   "nbconvert_exporter": "python",
   "pygments_lexer": "ipython3",
   "version": "3.13.1"
  }
 },
 "nbformat": 4,
 "nbformat_minor": 2
}
